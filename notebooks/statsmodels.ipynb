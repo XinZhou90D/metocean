{
 "metadata": {
  "name": "",
  "signature": "sha256:22fd907614c968860c945549f78fcbf56475b3db32004cfbbddd6bd202bf61b0"
 },
 "nbformat": 3,
 "nbformat_minor": 0,
 "worksheets": [
  {
   "cells": [
    {
     "cell_type": "code",
     "collapsed": false,
     "input": [
      "%load_ext load_style\n",
      "%load_style talk.css\n",
      "from IPython.display import Image\n",
      "from talktools import website"
     ],
     "language": "python",
     "metadata": {},
     "outputs": [
      {
       "html": [
        "<style>\n",
        "\n",
        ".rendered_html {\n",
        "    font-family: \"proxima-nova\", helvetica;\n",
        "    font-size: 130%;\n",
        "    line-height: 1.5;\n",
        "}\n",
        "\n",
        ".rendered_html h1 {\n",
        "    margin: 0.25em 0em 0.5em;\n",
        "    color: #015C9C;\n",
        "    text-align: center;\n",
        "    line-height: 1.2; \n",
        "    page-break-before: always;\n",
        "}\n",
        "\n",
        ".rendered_html h2 {\n",
        "    margin: 1.1em 0em 0.5em;\n",
        "    color: #26465D;\n",
        "    line-height: 1.2;\n",
        "}\n",
        "\n",
        ".rendered_html h3 {\n",
        "    margin: 1.1em 0em 0.5em;\n",
        "    color: #002845;\n",
        "    line-height: 1.2;\n",
        "}\n",
        "\n",
        ".rendered_html li {\n",
        "    line-height: 1.5; \n",
        "}\n",
        "\n",
        "/*.prompt {\n",
        "    font-size: 120%; \n",
        "}*/\n",
        "\n",
        ".CodeMirror-lines {\n",
        "    font-size: 110%; \n",
        "}\n",
        "\n",
        "/*.output_area {\n",
        "    font-size: 120%; \n",
        "}*/\n",
        "\n",
        "/*#notebook {\n",
        "    background-image: url('files/images/witewall_3.png');\n",
        "}*/\n",
        "\n",
        "h1.bigtitle {\n",
        "    margin: 4cm 1cm 4cm 1cm;\n",
        "    font-size: 300%;\n",
        "}\n",
        "\n",
        "h3.point {\n",
        "    font-size: 200%;\n",
        "    text-align: center;\n",
        "    margin: 2em 0em 2em 0em;\n",
        "    #26465D\n",
        "}\n",
        "\n",
        ".logo {\n",
        "    margin: 20px 0 20px 0;\n",
        "}\n",
        "\n",
        "a.anchor-link {\n",
        "    display: none;\n",
        "}\n",
        "\n",
        "h1.title { \n",
        "    font-size: 250%;\n",
        "}\n",
        "\n",
        "</style>"
       ],
       "metadata": {},
       "output_type": "display_data",
       "text": [
        "<IPython.core.display.HTML at 0x1044eb950>"
       ]
      }
     ],
     "prompt_number": 1
    },
    {
     "cell_type": "heading",
     "level": 1,
     "metadata": {},
     "source": [
      "Statistical modelling with statsmodels"
     ]
    },
    {
     "cell_type": "markdown",
     "metadata": {},
     "source": [
      "[statsmodels](http://statsmodels.sourceforge.net/)  is a Python module that allows users to explore data, estimate statistical models, and perform statistical tests. An (incomplete) list of what you can do with **statsmodels**: \n",
      "\n",
      "+ Linear regression models\n",
      "+ Generalized linear models\n",
      "+ A wide range of statistical tests\n",
      "+ ...\n",
      "        \n",
      "I will also mention briefly the [seaborn](http://web.stanford.edu/~mwaskom/software/seaborn/) package, for high-level, beautiful statistical visualisations"
     ]
    },
    {
     "cell_type": "heading",
     "level": 2,
     "metadata": {},
     "source": [
      "Statsmodels "
     ]
    },
    {
     "cell_type": "code",
     "collapsed": false,
     "input": [
      "#website('http://statsmodels.sourceforge.net/', width=1000)"
     ],
     "language": "python",
     "metadata": {},
     "outputs": [],
     "prompt_number": 2
    },
    {
     "cell_type": "code",
     "collapsed": false,
     "input": [
      "import numpy as np\n",
      "import pandas as pd\n",
      "from matplotlib import pyplot as plt\n",
      "from IPython.display import Image, HTML\n",
      "%matplotlib inline"
     ],
     "language": "python",
     "metadata": {},
     "outputs": [],
     "prompt_number": 3
    },
    {
     "cell_type": "code",
     "collapsed": false,
     "input": [
      "data = pd.read_csv('../data/soi_nino.csv', index_col=0, parse_dates=True)"
     ],
     "language": "python",
     "metadata": {},
     "outputs": [],
     "prompt_number": 4
    },
    {
     "cell_type": "code",
     "collapsed": false,
     "input": [
      "data.tail()"
     ],
     "language": "python",
     "metadata": {},
     "outputs": [
      {
       "html": [
        "<div style=\"max-height:1000px;max-width:1500px;overflow:auto;\">\n",
        "<table border=\"1\" class=\"dataframe\">\n",
        "  <thead>\n",
        "    <tr style=\"text-align: right;\">\n",
        "      <th></th>\n",
        "      <th>SOI</th>\n",
        "      <th>nino</th>\n",
        "    </tr>\n",
        "  </thead>\n",
        "  <tbody>\n",
        "    <tr>\n",
        "      <th>2013-08-01</th>\n",
        "      <td>-0.222680</td>\n",
        "      <td>-0.37</td>\n",
        "    </tr>\n",
        "    <tr>\n",
        "      <th>2013-09-01</th>\n",
        "      <td> 0.317375</td>\n",
        "      <td>-0.27</td>\n",
        "    </tr>\n",
        "    <tr>\n",
        "      <th>2013-10-01</th>\n",
        "      <td>-0.309098</td>\n",
        "      <td>-0.14</td>\n",
        "    </tr>\n",
        "    <tr>\n",
        "      <th>2013-11-01</th>\n",
        "      <td> 0.836244</td>\n",
        "      <td>-0.19</td>\n",
        "    </tr>\n",
        "    <tr>\n",
        "      <th>2013-12-01</th>\n",
        "      <td>-0.117755</td>\n",
        "      <td>-0.43</td>\n",
        "    </tr>\n",
        "  </tbody>\n",
        "</table>\n",
        "</div>"
       ],
       "metadata": {},
       "output_type": "pyout",
       "prompt_number": 5,
       "text": [
        "                 SOI  nino\n",
        "2013-08-01 -0.222680 -0.37\n",
        "2013-09-01  0.317375 -0.27\n",
        "2013-10-01 -0.309098 -0.14\n",
        "2013-11-01  0.836244 -0.19\n",
        "2013-12-01 -0.117755 -0.43"
       ]
      }
     ],
     "prompt_number": 5
    },
    {
     "cell_type": "code",
     "collapsed": false,
     "input": [
      "data.corr()"
     ],
     "language": "python",
     "metadata": {},
     "outputs": [
      {
       "html": [
        "<div style=\"max-height:1000px;max-width:1500px;overflow:auto;\">\n",
        "<table border=\"1\" class=\"dataframe\">\n",
        "  <thead>\n",
        "    <tr style=\"text-align: right;\">\n",
        "      <th></th>\n",
        "      <th>SOI</th>\n",
        "      <th>nino</th>\n",
        "    </tr>\n",
        "  </thead>\n",
        "  <tbody>\n",
        "    <tr>\n",
        "      <th>SOI</th>\n",
        "      <td> 1.000000</td>\n",
        "      <td>-0.710077</td>\n",
        "    </tr>\n",
        "    <tr>\n",
        "      <th>nino</th>\n",
        "      <td>-0.710077</td>\n",
        "      <td> 1.000000</td>\n",
        "    </tr>\n",
        "  </tbody>\n",
        "</table>\n",
        "</div>"
       ],
       "metadata": {},
       "output_type": "pyout",
       "prompt_number": 6,
       "text": [
        "           SOI      nino\n",
        "SOI   1.000000 -0.710077\n",
        "nino -0.710077  1.000000"
       ]
      }
     ],
     "prompt_number": 6
    },
    {
     "cell_type": "heading",
     "level": 3,
     "metadata": {},
     "source": [
      "Using statsmodels with numpy arrays and the classic API"
     ]
    },
    {
     "cell_type": "code",
     "collapsed": false,
     "input": [
      "import statsmodels.api as sm"
     ],
     "language": "python",
     "metadata": {},
     "outputs": [],
     "prompt_number": 7
    },
    {
     "cell_type": "markdown",
     "metadata": {},
     "source": [
      "Get the data into numpy arrays"
     ]
    },
    {
     "cell_type": "code",
     "collapsed": false,
     "input": [
      "y = data['SOI'].values\n",
      "X = data['nino'].values"
     ],
     "language": "python",
     "metadata": {},
     "outputs": [],
     "prompt_number": 8
    },
    {
     "cell_type": "markdown",
     "metadata": {},
     "source": [
      "add an axis to X and add a constant with the ```sm.add_constant``` function"
     ]
    },
    {
     "cell_type": "code",
     "collapsed": false,
     "input": [
      "X = X[...,np.newaxis]"
     ],
     "language": "python",
     "metadata": {},
     "outputs": [],
     "prompt_number": 9
    },
    {
     "cell_type": "code",
     "collapsed": false,
     "input": [
      "X = sm.add_constant(X)"
     ],
     "language": "python",
     "metadata": {},
     "outputs": [],
     "prompt_number": 10
    },
    {
     "cell_type": "code",
     "collapsed": false,
     "input": [
      "X"
     ],
     "language": "python",
     "metadata": {},
     "outputs": [
      {
       "metadata": {},
       "output_type": "pyout",
       "prompt_number": 11,
       "text": [
        "array([[ 1.  , -1.84],\n",
        "       [ 1.  , -1.63],\n",
        "       [ 1.  , -1.3 ],\n",
        "       ..., \n",
        "       [ 1.  , -0.14],\n",
        "       [ 1.  , -0.19],\n",
        "       [ 1.  , -0.43]])"
       ]
      }
     ],
     "prompt_number": 11
    },
    {
     "cell_type": "markdown",
     "metadata": {},
     "source": [
      "instantiate the model, arguments are `y` (dependent variable), `X` (independant variable)"
     ]
    },
    {
     "cell_type": "code",
     "collapsed": false,
     "input": [
      "lm1_mod = sm.OLS(y, X)"
     ],
     "language": "python",
     "metadata": {},
     "outputs": [],
     "prompt_number": 12
    },
    {
     "cell_type": "markdown",
     "metadata": {},
     "source": [
      "fit the model"
     ]
    },
    {
     "cell_type": "code",
     "collapsed": false,
     "input": [
      "lm1_fit = lm1_mod.fit()"
     ],
     "language": "python",
     "metadata": {},
     "outputs": [],
     "prompt_number": 13
    },
    {
     "cell_type": "code",
     "collapsed": false,
     "input": [
      "lm1_fit.summary()"
     ],
     "language": "python",
     "metadata": {},
     "outputs": [
      {
       "html": [
        "<table class=\"simpletable\">\n",
        "<caption>OLS Regression Results</caption>\n",
        "<tr>\n",
        "  <th>Dep. Variable:</th>            <td>y</td>        <th>  R-squared:         </th> <td>   0.504</td> \n",
        "</tr>\n",
        "<tr>\n",
        "  <th>Model:</th>                   <td>OLS</td>       <th>  Adj. R-squared:    </th> <td>   0.504</td> \n",
        "</tr>\n",
        "<tr>\n",
        "  <th>Method:</th>             <td>Least Squares</td>  <th>  F-statistic:       </th> <td>   779.0</td> \n",
        "</tr>\n",
        "<tr>\n",
        "  <th>Date:</th>             <td>Wed, 25 Feb 2015</td> <th>  Prob (F-statistic):</th> <td>8.08e-119</td>\n",
        "</tr>\n",
        "<tr>\n",
        "  <th>Time:</th>                 <td>09:15:55</td>     <th>  Log-Likelihood:    </th> <td> -905.59</td> \n",
        "</tr>\n",
        "<tr>\n",
        "  <th>No. Observations:</th>      <td>   768</td>      <th>  AIC:               </th> <td>   1815.</td> \n",
        "</tr>\n",
        "<tr>\n",
        "  <th>Df Residuals:</th>          <td>   766</td>      <th>  BIC:               </th> <td>   1824.</td> \n",
        "</tr>\n",
        "<tr>\n",
        "  <th>Df Model:</th>              <td>     1</td>      <th>                     </th>     <td> </td>    \n",
        "</tr>\n",
        "<tr>\n",
        "  <th>Covariance Type:</th>      <td>nonrobust</td>    <th>                     </th>     <td> </td>    \n",
        "</tr>\n",
        "</table>\n",
        "<table class=\"simpletable\">\n",
        "<tr>\n",
        "    <td></td>       <th>coef</th>     <th>std err</th>      <th>t</th>      <th>P>|t|</th> <th>[95.0% Conf. Int.]</th> \n",
        "</tr>\n",
        "<tr>\n",
        "  <th>const</th> <td>   -0.2307</td> <td>    0.029</td> <td>   -7.977</td> <td> 0.000</td> <td>   -0.287    -0.174</td>\n",
        "</tr>\n",
        "<tr>\n",
        "  <th>x1</th>    <td>   -0.9506</td> <td>    0.034</td> <td>  -27.911</td> <td> 0.000</td> <td>   -1.017    -0.884</td>\n",
        "</tr>\n",
        "</table>\n",
        "<table class=\"simpletable\">\n",
        "<tr>\n",
        "  <th>Omnibus:</th>       <td> 2.974</td> <th>  Durbin-Watson:     </th> <td>   1.505</td>\n",
        "</tr>\n",
        "<tr>\n",
        "  <th>Prob(Omnibus):</th> <td> 0.226</td> <th>  Jarque-Bera (JB):  </th> <td>   2.809</td>\n",
        "</tr>\n",
        "<tr>\n",
        "  <th>Skew:</th>          <td>-0.138</td> <th>  Prob(JB):          </th> <td>   0.246</td>\n",
        "</tr>\n",
        "<tr>\n",
        "  <th>Kurtosis:</th>      <td> 3.106</td> <th>  Cond. No.          </th> <td>    1.28</td>\n",
        "</tr>\n",
        "</table>"
       ],
       "metadata": {},
       "output_type": "pyout",
       "prompt_number": 14,
       "text": [
        "<class 'statsmodels.iolib.summary.Summary'>\n",
        "\"\"\"\n",
        "                            OLS Regression Results                            \n",
        "==============================================================================\n",
        "Dep. Variable:                      y   R-squared:                       0.504\n",
        "Model:                            OLS   Adj. R-squared:                  0.504\n",
        "Method:                 Least Squares   F-statistic:                     779.0\n",
        "Date:                Wed, 25 Feb 2015   Prob (F-statistic):          8.08e-119\n",
        "Time:                        09:15:55   Log-Likelihood:                -905.59\n",
        "No. Observations:                 768   AIC:                             1815.\n",
        "Df Residuals:                     766   BIC:                             1824.\n",
        "Df Model:                           1                                         \n",
        "Covariance Type:            nonrobust                                         \n",
        "==============================================================================\n",
        "                 coef    std err          t      P>|t|      [95.0% Conf. Int.]\n",
        "------------------------------------------------------------------------------\n",
        "const         -0.2307      0.029     -7.977      0.000        -0.287    -0.174\n",
        "x1            -0.9506      0.034    -27.911      0.000        -1.017    -0.884\n",
        "==============================================================================\n",
        "Omnibus:                        2.974   Durbin-Watson:                   1.505\n",
        "Prob(Omnibus):                  0.226   Jarque-Bera (JB):                2.809\n",
        "Skew:                          -0.138   Prob(JB):                        0.246\n",
        "Kurtosis:                       3.106   Cond. No.                         1.28\n",
        "==============================================================================\n",
        "\n",
        "Warnings:\n",
        "[1] Standard Errors assume that the covariance matrix of the errors is correctly specified.\n",
        "\"\"\""
       ]
      }
     ],
     "prompt_number": 14
    },
    {
     "cell_type": "markdown",
     "metadata": {},
     "source": [
      "Out of sample prediction for ONE value of NINO3.4"
     ]
    },
    {
     "cell_type": "markdown",
     "metadata": {},
     "source": [
      "You need to prepend a constant (1. is the default) in order for the matrices to be aligned"
     ]
    },
    {
     "cell_type": "code",
     "collapsed": false,
     "input": [
      "X_prime = np.array([1., 3.]).reshape((1,2))"
     ],
     "language": "python",
     "metadata": {},
     "outputs": [],
     "prompt_number": 15
    },
    {
     "cell_type": "code",
     "collapsed": false,
     "input": [
      "X_prime.shape"
     ],
     "language": "python",
     "metadata": {},
     "outputs": [
      {
       "metadata": {},
       "output_type": "pyout",
       "prompt_number": 16,
       "text": [
        "(1, 2)"
       ]
      }
     ],
     "prompt_number": 16
    },
    {
     "cell_type": "code",
     "collapsed": false,
     "input": [
      "X.shape"
     ],
     "language": "python",
     "metadata": {},
     "outputs": [
      {
       "metadata": {},
       "output_type": "pyout",
       "prompt_number": 17,
       "text": [
        "(768, 2)"
       ]
      }
     ],
     "prompt_number": 17
    },
    {
     "cell_type": "code",
     "collapsed": false,
     "input": [
      "y_hat = lm1_fit.predict(X_prime)"
     ],
     "language": "python",
     "metadata": {},
     "outputs": [],
     "prompt_number": 18
    },
    {
     "cell_type": "code",
     "collapsed": false,
     "input": [
      "y_hat"
     ],
     "language": "python",
     "metadata": {},
     "outputs": [
      {
       "metadata": {},
       "output_type": "pyout",
       "prompt_number": 19,
       "text": [
        "array([-3.08240935])"
       ]
      }
     ],
     "prompt_number": 19
    },
    {
     "cell_type": "heading",
     "level": 3,
     "metadata": {},
     "source": [
      "Using statsmodels with Pandas DataFrames and the formula API"
     ]
    },
    {
     "cell_type": "markdown",
     "metadata": {},
     "source": [
      "The statsmodels library has also a **formula** API that allows you to enter your model using a syntax which should be familiar to R users. The variable names are simply the names of the corresponding columns in the pandas DataFrame, which is given as the second argument. \n",
      "\n",
      "The `formula` API is based on the [patsy](https://github.com/pydata/patsy) project."
     ]
    },
    {
     "cell_type": "code",
     "collapsed": false,
     "input": [
      "from statsmodels.formula.api import ols as OLS"
     ],
     "language": "python",
     "metadata": {},
     "outputs": [],
     "prompt_number": 20
    },
    {
     "cell_type": "markdown",
     "metadata": {},
     "source": [
      "instantiate the model (OLS), Specifying the columns of the pandas DataFrame"
     ]
    },
    {
     "cell_type": "code",
     "collapsed": false,
     "input": [
      "lm2_mod = OLS('SOI ~ nino', data)"
     ],
     "language": "python",
     "metadata": {},
     "outputs": [],
     "prompt_number": 21
    },
    {
     "cell_type": "markdown",
     "metadata": {},
     "source": [
      "fit the model"
     ]
    },
    {
     "cell_type": "code",
     "collapsed": false,
     "input": [
      "lm2_fit = lm2_mod.fit()"
     ],
     "language": "python",
     "metadata": {},
     "outputs": [],
     "prompt_number": 22
    },
    {
     "cell_type": "code",
     "collapsed": false,
     "input": [
      "lm2_fit.summary()"
     ],
     "language": "python",
     "metadata": {},
     "outputs": [
      {
       "html": [
        "<table class=\"simpletable\">\n",
        "<caption>OLS Regression Results</caption>\n",
        "<tr>\n",
        "  <th>Dep. Variable:</th>           <td>SOI</td>       <th>  R-squared:         </th> <td>   0.504</td> \n",
        "</tr>\n",
        "<tr>\n",
        "  <th>Model:</th>                   <td>OLS</td>       <th>  Adj. R-squared:    </th> <td>   0.504</td> \n",
        "</tr>\n",
        "<tr>\n",
        "  <th>Method:</th>             <td>Least Squares</td>  <th>  F-statistic:       </th> <td>   779.0</td> \n",
        "</tr>\n",
        "<tr>\n",
        "  <th>Date:</th>             <td>Wed, 25 Feb 2015</td> <th>  Prob (F-statistic):</th> <td>8.08e-119</td>\n",
        "</tr>\n",
        "<tr>\n",
        "  <th>Time:</th>                 <td>09:15:59</td>     <th>  Log-Likelihood:    </th> <td> -905.59</td> \n",
        "</tr>\n",
        "<tr>\n",
        "  <th>No. Observations:</th>      <td>   768</td>      <th>  AIC:               </th> <td>   1815.</td> \n",
        "</tr>\n",
        "<tr>\n",
        "  <th>Df Residuals:</th>          <td>   766</td>      <th>  BIC:               </th> <td>   1824.</td> \n",
        "</tr>\n",
        "<tr>\n",
        "  <th>Df Model:</th>              <td>     1</td>      <th>                     </th>     <td> </td>    \n",
        "</tr>\n",
        "<tr>\n",
        "  <th>Covariance Type:</th>      <td>nonrobust</td>    <th>                     </th>     <td> </td>    \n",
        "</tr>\n",
        "</table>\n",
        "<table class=\"simpletable\">\n",
        "<tr>\n",
        "      <td></td>         <th>coef</th>     <th>std err</th>      <th>t</th>      <th>P>|t|</th> <th>[95.0% Conf. Int.]</th> \n",
        "</tr>\n",
        "<tr>\n",
        "  <th>Intercept</th> <td>   -0.2307</td> <td>    0.029</td> <td>   -7.977</td> <td> 0.000</td> <td>   -0.287    -0.174</td>\n",
        "</tr>\n",
        "<tr>\n",
        "  <th>nino</th>      <td>   -0.9506</td> <td>    0.034</td> <td>  -27.911</td> <td> 0.000</td> <td>   -1.017    -0.884</td>\n",
        "</tr>\n",
        "</table>\n",
        "<table class=\"simpletable\">\n",
        "<tr>\n",
        "  <th>Omnibus:</th>       <td> 2.974</td> <th>  Durbin-Watson:     </th> <td>   1.505</td>\n",
        "</tr>\n",
        "<tr>\n",
        "  <th>Prob(Omnibus):</th> <td> 0.226</td> <th>  Jarque-Bera (JB):  </th> <td>   2.809</td>\n",
        "</tr>\n",
        "<tr>\n",
        "  <th>Skew:</th>          <td>-0.138</td> <th>  Prob(JB):          </th> <td>   0.246</td>\n",
        "</tr>\n",
        "<tr>\n",
        "  <th>Kurtosis:</th>      <td> 3.106</td> <th>  Cond. No.          </th> <td>    1.28</td>\n",
        "</tr>\n",
        "</table>"
       ],
       "metadata": {},
       "output_type": "pyout",
       "prompt_number": 23,
       "text": [
        "<class 'statsmodels.iolib.summary.Summary'>\n",
        "\"\"\"\n",
        "                            OLS Regression Results                            \n",
        "==============================================================================\n",
        "Dep. Variable:                    SOI   R-squared:                       0.504\n",
        "Model:                            OLS   Adj. R-squared:                  0.504\n",
        "Method:                 Least Squares   F-statistic:                     779.0\n",
        "Date:                Wed, 25 Feb 2015   Prob (F-statistic):          8.08e-119\n",
        "Time:                        09:15:59   Log-Likelihood:                -905.59\n",
        "No. Observations:                 768   AIC:                             1815.\n",
        "Df Residuals:                     766   BIC:                             1824.\n",
        "Df Model:                           1                                         \n",
        "Covariance Type:            nonrobust                                         \n",
        "==============================================================================\n",
        "                 coef    std err          t      P>|t|      [95.0% Conf. Int.]\n",
        "------------------------------------------------------------------------------\n",
        "Intercept     -0.2307      0.029     -7.977      0.000        -0.287    -0.174\n",
        "nino          -0.9506      0.034    -27.911      0.000        -1.017    -0.884\n",
        "==============================================================================\n",
        "Omnibus:                        2.974   Durbin-Watson:                   1.505\n",
        "Prob(Omnibus):                  0.226   Jarque-Bera (JB):                2.809\n",
        "Skew:                          -0.138   Prob(JB):                        0.246\n",
        "Kurtosis:                       3.106   Cond. No.                         1.28\n",
        "==============================================================================\n",
        "\n",
        "Warnings:\n",
        "[1] Standard Errors assume that the covariance matrix of the errors is correctly specified.\n",
        "\"\"\""
       ]
      }
     ],
     "prompt_number": 23
    },
    {
     "cell_type": "heading",
     "level": 2,
     "metadata": {},
     "source": [
      "Statistical models and statistical visualisations with Seaborn"
     ]
    },
    {
     "cell_type": "markdown",
     "metadata": {},
     "source": [
      "[Seaborn](http://web.stanford.edu/~mwaskom/software/seaborn/) Seaborn is a library for making attractive and informative statistical graphics in Python. It is built on top of matplotlib and tightly integrated with the PyData stack, including support for numpy and pandas data structures and statistical routines from scipy and statsmodels."
     ]
    },
    {
     "cell_type": "code",
     "collapsed": false,
     "input": [
      "import seaborn as sb"
     ],
     "language": "python",
     "metadata": {},
     "outputs": [],
     "prompt_number": 24
    },
    {
     "cell_type": "code",
     "collapsed": false,
     "input": [
      "sb.regplot(\"nino\", \"SOI\", data)"
     ],
     "language": "python",
     "metadata": {},
     "outputs": [
      {
       "metadata": {},
       "output_type": "pyout",
       "prompt_number": 25,
       "text": [
        "<matplotlib.axes._subplots.AxesSubplot at 0x10a275f10>"
       ]
      },
      {
       "metadata": {},
       "output_type": "display_data",
       "png": "[encoded data removed]",
       "text": [
        "<matplotlib.figure.Figure at 0x10a275710>"
       ]
      }
     ],
     "prompt_number": 25
    },
    {
     "cell_type": "code",
     "collapsed": false,
     "input": [
      "f, ax = plt.subplots()\n",
      "sb.kdeplot(data['nino'], data['SOI'], shade=True, ax=ax)"
     ],
     "language": "python",
     "metadata": {},
     "outputs": [
      {
       "metadata": {},
       "output_type": "pyout",
       "prompt_number": 26,
       "text": [
        "<matplotlib.axes._subplots.AxesSubplot at 0x10a355b50>"
       ]
      },
      {
       "metadata": {},
       "output_type": "display_data",
       "png": "[encoded data removed]",
       "text": [
        "<matplotlib.figure.Figure at 0x10a3aa050>"
       ]
      }
     ],
     "prompt_number": 26
    },
    {
     "cell_type": "code",
     "collapsed": false,
     "input": [],
     "language": "python",
     "metadata": {},
     "outputs": []
    }
   ],
   "metadata": {}
  }
 ]
}