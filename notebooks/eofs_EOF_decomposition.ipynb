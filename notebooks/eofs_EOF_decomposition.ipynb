{
 "metadata": {
  "name": "",
  "signature": "sha256:4c9e06ef34266af6feb0067994c5bc2ba88037ffc3761399ac852c1b2fbb2d8c"
 },
 "nbformat": 3,
 "nbformat_minor": 0,
 "worksheets": [
  {
   "cells": [
    {
     "cell_type": "code",
     "collapsed": false,
     "input": [
      "%load_ext load_style\n",
      "%load_style talk.css"
     ],
     "language": "python",
     "metadata": {},
     "outputs": [
      {
       "html": [
        "<style>\n",
        "\n",
        ".rendered_html {\n",
        "    font-family: \"proxima-nova\", helvetica;\n",
        "    font-size: 130%;\n",
        "    line-height: 1.5;\n",
        "}\n",
        "\n",
        ".rendered_html h1 {\n",
        "    margin: 0.25em 0em 0.5em;\n",
        "    color: #015C9C;\n",
        "    text-align: center;\n",
        "    line-height: 1.2; \n",
        "    page-break-before: always;\n",
        "}\n",
        "\n",
        ".rendered_html h2 {\n",
        "    margin: 1.1em 0em 0.5em;\n",
        "    color: #26465D;\n",
        "    line-height: 1.2;\n",
        "}\n",
        "\n",
        ".rendered_html h3 {\n",
        "    margin: 1.1em 0em 0.5em;\n",
        "    color: #002845;\n",
        "    line-height: 1.2;\n",
        "}\n",
        "\n",
        ".rendered_html li {\n",
        "    line-height: 1.5; \n",
        "}\n",
        "\n",
        "/*.prompt {\n",
        "    font-size: 120%; \n",
        "}*/\n",
        "\n",
        ".CodeMirror-lines {\n",
        "    font-size: 110%; \n",
        "}\n",
        "\n",
        "/*.output_area {\n",
        "    font-size: 120%; \n",
        "}*/\n",
        "\n",
        "/*#notebook {\n",
        "    background-image: url('files/images/witewall_3.png');\n",
        "}*/\n",
        "\n",
        "h1.bigtitle {\n",
        "    margin: 4cm 1cm 4cm 1cm;\n",
        "    font-size: 300%;\n",
        "}\n",
        "\n",
        "h3.point {\n",
        "    font-size: 200%;\n",
        "    text-align: center;\n",
        "    margin: 2em 0em 2em 0em;\n",
        "    #26465D\n",
        "}\n",
        "\n",
        ".logo {\n",
        "    margin: 20px 0 20px 0;\n",
        "}\n",
        "\n",
        "a.anchor-link {\n",
        "    display: none;\n",
        "}\n",
        "\n",
        "h1.title { \n",
        "    font-size: 250%;\n",
        "}\n",
        "\n",
        "</style>"
       ],
       "metadata": {},
       "output_type": "display_data",
       "text": [
        "<IPython.core.display.HTML at 0x1082d9950>"
       ]
      }
     ],
     "prompt_number": 2
    },
    {
     "cell_type": "code",
     "collapsed": false,
     "input": [
      "%matplotlib inline"
     ],
     "language": "python",
     "metadata": {},
     "outputs": [],
     "prompt_number": 3
    },
    {
     "cell_type": "heading",
     "level": 1,
     "metadata": {},
     "source": [
      "EOF decomposition of SST anomalies in the Pacific with the [eofs](http://ajdawson.github.io/eofs/index.html) library"
     ]
    },
    {
     "cell_type": "markdown",
     "metadata": {},
     "source": [
      "[eofs](http://ajdawson.github.io/eofs/index.html) is a Python library developed by \n",
      "[Andrew Dawson](http://ajdawson.github.io/) which provides a very convenient interface for performing EOF decomposition \n",
      "of geophysical (ocean / atmosphere) fields"
     ]
    },
    {
     "cell_type": "markdown",
     "metadata": {},
     "source": [
      "It has 3 `interfaces`: \n",
      "    \n",
      "+ **`standard`**: expects numpy arrays as inputs\n",
      "+ **`cdms`**: [cdms2](http://esg.llnl.gov/cdat/cdms_html/cdms-2.htm) objects (cdms2 is a class for opening netcdf files [amongst other formats]) part of the [cdat-lite](http://proj.badc.rl.ac.uk/cedaservices/wiki/CdatLite) package or [UV-CDAT](http://uvcdat.llnl.gov/) distribution\n",
      "+ **`iris`**: [iris](http://scitools.org.uk/iris/index.html) cubes\n",
      "\n",
      "We are going to use xray here, and thus use the standard interface, passing the underlying numpy arrays"
     ]
    },
    {
     "cell_type": "heading",
     "level": 3,
     "metadata": {},
     "source": [
      "import the eof solver, standard interface"
     ]
    },
    {
     "cell_type": "code",
     "collapsed": false,
     "input": [
      "from eofs.standard import Eof"
     ],
     "language": "python",
     "metadata": {},
     "outputs": [],
     "prompt_number": 4
    },
    {
     "cell_type": "heading",
     "level": 3,
     "metadata": {},
     "source": [
      "usual imports"
     ]
    },
    {
     "cell_type": "code",
     "collapsed": false,
     "input": [
      "import os, sys\n",
      "import pandas as pd\n",
      "import numpy as np\n",
      "from numpy import ma\n",
      "from matplotlib import pyplot as plt\n",
      "from mpl_toolkits.basemap import Basemap as bm"
     ],
     "language": "python",
     "metadata": {},
     "outputs": [],
     "prompt_number": 5
    },
    {
     "cell_type": "code",
     "collapsed": false,
     "input": [
      "dpath = os.path.join(os.environ['HOME'],'data/SST/ER_SST/V4')\n",
      "#dpath = os.path.join(os.environ['HOME'],'data/SST/ER_SST/')"
     ],
     "language": "python",
     "metadata": {},
     "outputs": [],
     "prompt_number": 6
    },
    {
     "cell_type": "heading",
     "level": 3,
     "metadata": {},
     "source": [
      "defines a function to plot a 2D field map"
     ]
    },
    {
     "cell_type": "code",
     "collapsed": false,
     "input": [
      "def plot_field(X, lat, lon, vmin, vmax, step, cmap=plt.get_cmap('jet'), ax=False, title=False, grid=False):\n",
      "    if not ax: \n",
      "        f, ax = plt.subplots(figsize=(10, (X.shape[0] / float(X.shape[1])) * 10))\n",
      "    m.ax = ax\n",
      "    im = m.contourf(lons, lats, X, np.arange(vmin, vmax+step, step), latlon=True, cmap=cmap, extend='both', ax=ax)\n",
      "    m.drawcoastlines()\n",
      "    if grid: \n",
      "        m.drawmeridians(np.arange(0, 360, 60), labels=[0,0,0,1])\n",
      "        m.drawparallels([-40, 0, 40], labels=[1,0,0,0])\n",
      "    m.colorbar(im)\n",
      "    if title: \n",
      "        ax.set_title(title)"
     ],
     "language": "python",
     "metadata": {},
     "outputs": [],
     "prompt_number": 7
    },
    {
     "cell_type": "markdown",
     "metadata": {},
     "source": [
      "## load the SST data using xray"
     ]
    },
    {
     "cell_type": "code",
     "collapsed": false,
     "input": [
      "import xray; print(xray.__version__)"
     ],
     "language": "python",
     "metadata": {},
     "outputs": [
      {
       "output_type": "stream",
       "stream": "stdout",
       "text": [
        "0.4.0rc1\n"
       ]
      }
     ],
     "prompt_number": 8
    },
    {
     "cell_type": "code",
     "collapsed": false,
     "input": [
      "ncfname = os.path.join(dpath,'ersst.realtime.nc')"
     ],
     "language": "python",
     "metadata": {},
     "outputs": [],
     "prompt_number": 9
    },
    {
     "cell_type": "code",
     "collapsed": false,
     "input": [
      "dset = xray.open_dataset(ncfname)"
     ],
     "language": "python",
     "metadata": {},
     "outputs": [],
     "prompt_number": 10
    },
    {
     "cell_type": "code",
     "collapsed": false,
     "input": [
      "dset"
     ],
     "language": "python",
     "metadata": {},
     "outputs": [
      {
       "metadata": {},
       "output_type": "pyout",
       "prompt_number": 12,
       "text": [
        "<xray.Dataset>\n",
        "Dimensions:   (lat: 89, lon: 180, nv: 2, time: 804, zlev: 1)\n",
        "Coordinates:\n",
        "  * time      (time) datetime64[ns] 1948-01-15 1948-02-15 1948-03-15 1948-04-15 ...\n",
        "  * zlev      (zlev) float32 0.0\n",
        "  * lat       (lat) float32 -88.0 -86.0 -84.0 -82.0 -80.0 -78.0 -76.0 -74.0 -72.0 -70.0 ...\n",
        "  * lon       (lon) float32 0.0 2.0 4.0 6.0 8.0 10.0 12.0 14.0 16.0 18.0 20.0 22.0 24.0 ...\n",
        "  * nv        (nv) int64 0 1\n",
        "Data variables:\n",
        "    lat_bnds  (lat, nv) float32 -89.0 -87.0 -87.0 -85.0 -85.0 -83.0 -83.0 -81.0 -81.0 ...\n",
        "    lon_bnds  (lon, nv) float32 -1.0 1.0 1.0 3.0 3.0 5.0 5.0 7.0 7.0 9.0 9.0 11.0 11.0 ...\n",
        "    sst       (time, zlev, lat, lon) float64 nan nan nan nan nan nan nan nan nan nan nan ...\n",
        "    anom      (time, zlev, lat, lon) float64 nan nan nan nan nan nan nan nan nan nan nan ...\n",
        "Attributes:\n",
        "    Conventions: CF-1.6\n",
        "    Metadata_Conventions: CF-1.6, Unidata Dataset Discovery v1.0\n",
        "    metadata_link: C00884\n",
        "    id: ersst.v4.194801\n",
        "    naming_authority: gov.noaa.ncdc\n",
        "    title: NOAA Extended Reconstructed Sea Surface Temperature (ERSST), Version 4 (in situ only)\n",
        "    summary: ERSST.v4 is developped based on v3b after revisions of 11 parameters using updated data sets and advanced knowledge of ERSST analysis\n",
        "    institution: NOAA/NESDIS/NCDC\n",
        "    creator_name: Boyin Huang\n",
        "    creator_email: boyin.huang@noaa.gov\n",
        "    date_created: 2014-10-24\n",
        "    production_version: Beta Version 4\n",
        "    history: Fri Feb 13 15:18:09 2015: ncrcat ersst.194801_ft.nc ersst.194802_ft.nc ersst.194803_ft.nc ersst.194804_ft.nc ersst.194805_ft.nc ersst.194806_ft.nc ersst.194807_ft.nc ersst.194808_ft.nc ersst.194809_ft.nc ersst.194810_ft.nc ersst.194811_ft.nc ersst.194812_ft.nc ersst.194901_ft.nc ersst.194902_ft.nc ersst.194903_ft.nc ersst.194904_ft.nc ersst.194905_ft.nc ersst.194906_ft.nc ersst.194907_ft.nc ersst.194908_ft.nc ersst.194909_ft.nc ersst.194910_ft.nc ersst.194911_ft.nc ersst.194912_ft.nc ersst.19...\n",
        "    publisher_name: Boyin Huang\n",
        "    publisher_email: boyin.huang@noaa.gov\n",
        "    publisher_url: http://www.ncdc.noaa.gov\n",
        "    creator_url: http://www.ncdc.noaa.gov\n",
        "    license: No constraints on data access or use\n",
        "    time_coverage_start: 1948-01-15T000000Z\n",
        "    time_coverage_end: 1948-01-15T000000Z\n",
        "    geospatial_lon_min: -1.0f\n",
        "    geospatial_lon_max: 359.0f\n",
        "    geospatial_lat_min: -89.0f\n",
        "    geospatial_lat_max: 89.0f\n",
        "    geospatial_lat_units: degrees_north\n",
        "    geospatial_lat_resolution: 2.0\n",
        "    geospatial_lon_units: degrees_east\n",
        "    geospatial_lon_resolution: 2.0\n",
        "    spatial_resolution: 2.0 degree grid\n",
        "    cdm_data_type: Grid\n",
        "    processing_level: L4\n",
        "    standard_name_vocabulary: CF Standard Name Table v27\n",
        "    keywords: Earth Science &gt; Oceans &gt; Ocean Temperature &gt; Sea Surface Temperature &gt\n",
        "    keywords_vocabulary: NASA Global Change Master Directory (GCMD) Science Keywords\n",
        "    project: NOAA Extended Reconstructed Sea Surface Temperature (ERSST)\n",
        "    platform: Ship and Buoy SSTs from ICOADS R2.5 and NCEP GTS\n",
        "    instrument: Conventional thermometers\n",
        "    source: ICOADS R2.5 SST, NCEP GTS SST, HadISST ice, NCEP ice\n",
        "    comment: SSTs were observed by conventional thermometers in Buckets (insulated or un-insulated canvas and wooded buckets) or Engine Room Intaker\n",
        "    references: Huang et al, 2014: Extended Reconstructed Sea Surface Temperatures Version 4 (ERSST.v4), Part I. Upgrades and Intercomparisons. Journal of Climate, DOI: 10.1175/JCLI-D-14-00006.1.\n",
        "    climatology: Climatology is based on 1971-2000 SST, Xue, Y., T. M. Smith, and R. W. Reynolds, 2003: Interdecadal changes of 30-yr SST normals during 1871.2000. Journal of Climate, 16, 1601-1612.\n",
        "    description: In situ data: ICOADS2.5 before 2007 and NCEP in situ data from 2008 to present. Ice data: HadISST ice before 2010 and NCEP ice after 2010.\n",
        "    nco_openmp_thread_number: 1"
       ]
      }
     ],
     "prompt_number": 12
    },
    {
     "cell_type": "heading",
     "level": 3,
     "metadata": {},
     "source": [
      "selects the period 1980 - 2014 and the tropical Pacific domain"
     ]
    },
    {
     "cell_type": "code",
     "collapsed": false,
     "input": [
      "dsub = dset.sel(time=slice('1980','2014'), lat=slice(-40,40), lon=slice(120,290))"
     ],
     "language": "python",
     "metadata": {},
     "outputs": [],
     "prompt_number": 13
    },
    {
     "cell_type": "heading",
     "level": 3,
     "metadata": {},
     "source": [
      "get the lat, lon and sst variables as numpy arrays"
     ]
    },
    {
     "cell_type": "code",
     "collapsed": false,
     "input": [
      "lat = dsub['lat'].values\n",
      "lon = dsub['lon'].values\n",
      "sst = dsub['anom'].values.squeeze() # because of zlev"
     ],
     "language": "python",
     "metadata": {},
     "outputs": [],
     "prompt_number": 12
    },
    {
     "cell_type": "heading",
     "level": 4,
     "metadata": {},
     "source": [
      "this is for plotting later "
     ]
    },
    {
     "cell_type": "code",
     "collapsed": false,
     "input": [
      "lons, lats = np.meshgrid(lon, lat)"
     ],
     "language": "python",
     "metadata": {},
     "outputs": [],
     "prompt_number": 13
    },
    {
     "cell_type": "heading",
     "level": 4,
     "metadata": {},
     "source": [
      "sst.shape = (time, latitudes, longitudes)"
     ]
    },
    {
     "cell_type": "code",
     "collapsed": false,
     "input": [
      "sst.shape"
     ],
     "language": "python",
     "metadata": {},
     "outputs": [
      {
       "metadata": {},
       "output_type": "pyout",
       "prompt_number": 14,
       "text": [
        "(420, 41, 86)"
       ]
      }
     ],
     "prompt_number": 14
    },
    {
     "cell_type": "heading",
     "level": 3,
     "metadata": {},
     "source": [
      "defines an array of weights"
     ]
    },
    {
     "cell_type": "code",
     "collapsed": false,
     "input": [
      "coslat = np.cos(np.deg2rad(lat))\n",
      "wgts = np.sqrt(coslat)[..., np.newaxis]"
     ],
     "language": "python",
     "metadata": {},
     "outputs": [],
     "prompt_number": 15
    },
    {
     "cell_type": "heading",
     "level": 3,
     "metadata": {},
     "source": [
      "instantiates the EOF solver, passing the weights array as an optional argument"
     ]
    },
    {
     "cell_type": "heading",
     "level": 4,
     "metadata": {},
     "source": [
      "note how one doesnt need to deal with either the dimensions (stays 3D) or the missing data: the EOF solver deals with all that intelligently !"
     ]
    },
    {
     "cell_type": "code",
     "collapsed": false,
     "input": [
      "solver = Eof(sst, weights=wgts)"
     ],
     "language": "python",
     "metadata": {},
     "outputs": [],
     "prompt_number": 16
    },
    {
     "cell_type": "heading",
     "level": 3,
     "metadata": {},
     "source": [
      "get the EOF (spatial patterns) as correlations"
     ]
    },
    {
     "cell_type": "code",
     "collapsed": false,
     "input": [
      "eof1 = solver.eofsAsCorrelation(neofs=1)"
     ],
     "language": "python",
     "metadata": {},
     "outputs": [],
     "prompt_number": 17
    },
    {
     "cell_type": "heading",
     "level": 3,
     "metadata": {},
     "source": [
      "get the Principal Components (PCs), normalised values"
     ]
    },
    {
     "cell_type": "code",
     "collapsed": false,
     "input": [
      "pc1 = solver.pcs(npcs=1, pcscaling=1)"
     ],
     "language": "python",
     "metadata": {},
     "outputs": [],
     "prompt_number": 18
    },
    {
     "cell_type": "heading",
     "level": 3,
     "metadata": {},
     "source": [
      "plots "
     ]
    },
    {
     "cell_type": "code",
     "collapsed": false,
     "input": [
      "eof1.shape"
     ],
     "language": "python",
     "metadata": {},
     "outputs": [
      {
       "metadata": {},
       "output_type": "pyout",
       "prompt_number": 19,
       "text": [
        "(1, 41, 86)"
       ]
      }
     ],
     "prompt_number": 19
    },
    {
     "cell_type": "code",
     "collapsed": false,
     "input": [
      "m = bm(projection='cyl',llcrnrlat=-40,urcrnrlat=40,\\\n",
      "            llcrnrlon=120,urcrnrlon=290,\\\n",
      "            lat_ts=0,resolution='c')"
     ],
     "language": "python",
     "metadata": {},
     "outputs": [],
     "prompt_number": 20
    },
    {
     "cell_type": "code",
     "collapsed": false,
     "input": [
      "plot_field(eof1.squeeze(), lats, lons, -1, 1, 0.1, cmap=plt.get_cmap('RdBu_r'), \\\n",
      "               title=\"EOF #1\", grid=True)"
     ],
     "language": "python",
     "metadata": {},
     "outputs": [
      {
       "metadata": {},
       "output_type": "display_data",
       "png": "[encoded data removed]",
       "text": [
        "<matplotlib.figure.Figure at 0x10c121e90>"
       ]
      }
     ],
     "prompt_number": 21
    },
    {
     "cell_type": "code",
     "collapsed": false,
     "input": [
      "pc1 = pd.Series(pc1.squeeze(), index=dsub['time'].values)"
     ],
     "language": "python",
     "metadata": {},
     "outputs": [],
     "prompt_number": 22
    },
    {
     "cell_type": "code",
     "collapsed": false,
     "input": [
      "pc1.plot(figsize=(10,5))"
     ],
     "language": "python",
     "metadata": {},
     "outputs": [
      {
       "metadata": {},
       "output_type": "pyout",
       "prompt_number": 23,
       "text": [
        "<matplotlib.axes._subplots.AxesSubplot at 0x10c693cd0>"
       ]
      },
      {
       "metadata": {},
       "output_type": "display_data",
       "png": "[encoded data removed]",
       "text": [
        "<matplotlib.figure.Figure at 0x10c69d890>"
       ]
      }
     ],
     "prompt_number": 23
    }
   ],
   "metadata": {}
  }
 ]
}