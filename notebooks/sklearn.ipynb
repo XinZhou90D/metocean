{
 "metadata": {
  "name": "",
  "signature": "sha256:29ddb8a14db89c6d65232c988ad3f9bde13b707aa10b0b4d1f7bc5af9ebc6a77"
 },
 "nbformat": 3,
 "nbformat_minor": 0,
 "worksheets": [
  {
   "cells": [
    {
     "cell_type": "code",
     "collapsed": false,
     "input": [
      "%load_ext load_style\n",
      "%load_style talk.css\n",
      "from IPython.display import Image\n",
      "from talktools import website"
     ],
     "language": "python",
     "metadata": {},
     "outputs": [
      {
       "html": [
        "<style>\n",
        "\n",
        ".rendered_html {\n",
        "    font-family: \"proxima-nova\", helvetica;\n",
        "    font-size: 130%;\n",
        "    line-height: 1.5;\n",
        "}\n",
        "\n",
        ".rendered_html h1 {\n",
        "    margin: 0.25em 0em 0.5em;\n",
        "    color: #015C9C;\n",
        "    text-align: center;\n",
        "    line-height: 1.2; \n",
        "    page-break-before: always;\n",
        "}\n",
        "\n",
        ".rendered_html h2 {\n",
        "    margin: 1.1em 0em 0.5em;\n",
        "    color: #26465D;\n",
        "    line-height: 1.2;\n",
        "}\n",
        "\n",
        ".rendered_html h3 {\n",
        "    margin: 1.1em 0em 0.5em;\n",
        "    color: #002845;\n",
        "    line-height: 1.2;\n",
        "}\n",
        "\n",
        ".rendered_html li {\n",
        "    line-height: 1.5; \n",
        "}\n",
        "\n",
        "/*.prompt {\n",
        "    font-size: 120%; \n",
        "}*/\n",
        "\n",
        ".CodeMirror-lines {\n",
        "    font-size: 110%; \n",
        "}\n",
        "\n",
        "/*.output_area {\n",
        "    font-size: 120%; \n",
        "}*/\n",
        "\n",
        "/*#notebook {\n",
        "    background-image: url('files/images/witewall_3.png');\n",
        "}*/\n",
        "\n",
        "h1.bigtitle {\n",
        "    margin: 4cm 1cm 4cm 1cm;\n",
        "    font-size: 300%;\n",
        "}\n",
        "\n",
        "h3.point {\n",
        "    font-size: 200%;\n",
        "    text-align: center;\n",
        "    margin: 2em 0em 2em 0em;\n",
        "    #26465D\n",
        "}\n",
        "\n",
        ".logo {\n",
        "    margin: 20px 0 20px 0;\n",
        "}\n",
        "\n",
        "a.anchor-link {\n",
        "    display: none;\n",
        "}\n",
        "\n",
        "h1.title { \n",
        "    font-size: 250%;\n",
        "}\n",
        "\n",
        "</style>"
       ],
       "metadata": {},
       "output_type": "display_data",
       "text": [
        "<IPython.core.display.HTML at 0x1044eb950>"
       ]
      }
     ],
     "prompt_number": 1
    },
    {
     "cell_type": "heading",
     "level": 1,
     "metadata": {},
     "source": [
      "Machine Learning with scikit-learn"
     ]
    },
    {
     "cell_type": "markdown",
     "metadata": {},
     "source": [
      "Broadly speaking, Machine Learning is a field, related to Artificial Intelligence (AI), concerned about developping algorithms that 'learn from data', i.e. automatically adjust their performance from exposure to information encoded in data. This learning is achieved via **tunable parameters** that are automatically adjusted according to performance criteria.\n",
      "\n",
      "There are two major classes of ML (actually 3 with [**reinforcement learning**](http://en.wikipedia.org/wiki/Reinforcement_learning)): \n",
      "\n",
      "[**Supervised learning**](http://en.wikipedia.org/wiki/Supervised_learning)\n",
      ": Algorithms which learn from a training set of *labeled* examples to generalize to the set of all possible inputs. \n",
      "\n",
      "There are two classes of supervised learning algorithms: \n",
      "\n",
      "1. [**classification**](http://en.wikipedia.org/wiki/Classification_(machine_learning): when the label is encoded into a discrete, categorical variable (a *class*, a *label*). Example of a classification algorithm is the [Support Vector Machine](http://en.wikipedia.org/wiki/Support_vector_machine)\n",
      "\n",
      "2. [**regression**](http://en.wikipedia.org/wiki/Regression_analysis): when the label is encoded into a continuous variable. Example of a regression is the simple [linear regression](http://en.wikipedia.org/wiki/Linear_regression_model). \n",
      "\n",
      "[**Unsupervised learning**](http://en.wikipedia.org/wiki/Unsupervised_learning)\n",
      ": Algorithms which learn from a training set of *unlabeled* examples, using the features of the inputs to categorize inputs together according to some statistical criteria. \n",
      "\n",
      "One can also divide Unsupervised learning algorithms into: \n",
      "\n",
      "1. [**Dimensionality reduction**](http://en.wikipedia.org/wiki/Dimensionality_reduction): learning a more compact  representation (i.e. reducing the dimensions) of the data. One example is [Principal Component Analysis](http://en.wikipedia.org/wiki/Principal_component_analysis) (or Empirical Orthogonal Functions decomposition) \n",
      "2. [**Clustering**](http://en.wikipedia.org/wiki/Cluster_analysis): separating the data into clusters. One example of widely used algorithm is the [k-means](http://en.wikipedia.org/wiki/K-means) clustering method."
     ]
    },
    {
     "cell_type": "markdown",
     "metadata": {},
     "source": [
      "### Some vocabulary \n",
      "\n",
      "+ ** Instance **: sample, observation\n",
      "+ ** Feature **: explanatory variable, independent variable, predictor\n",
      "+ ** target **: dependent variable, predictand, can be categorical (*label*, *class*) or continuous."
     ]
    },
    {
     "cell_type": "code",
     "collapsed": false,
     "input": [
      "import numpy as np\n",
      "import pandas as pd\n",
      "from matplotlib import pyplot as plt\n",
      "from IPython.display import Image, HTML\n",
      "%matplotlib inline"
     ],
     "language": "python",
     "metadata": {},
     "outputs": [],
     "prompt_number": 2
    },
    {
     "cell_type": "code",
     "collapsed": false,
     "input": [
      "Image(url='http://scikit-learn.org/stable/_static/ml_map.png', width=900)"
     ],
     "language": "python",
     "metadata": {},
     "outputs": [
      {
       "html": [
        "<img src=\"http://scikit-learn.org/stable/_static/ml_map.png\" width=\"900\"/>"
       ],
       "metadata": {},
       "output_type": "pyout",
       "prompt_number": 3,
       "text": [
        "<IPython.core.display.Image at 0x1044ebbd0>"
       ]
      }
     ],
     "prompt_number": 3
    },
    {
     "cell_type": "markdown",
     "metadata": {},
     "source": [
      "The [scikit-learn](http://scikit-learn.org/stable/) package is an open-source library that provides a robust set of machine learning algorithms for Python. It is built upon the core Python scientific stack (*i.e.* NumPy, SciPy, Cython), and has a simple, consistent API, making it useful for a wide range of statistical learning applications."
     ]
    },
    {
     "cell_type": "code",
     "collapsed": false,
     "input": [
      "#website('http://scikit-learn.org/stable/', width=1000)"
     ],
     "language": "python",
     "metadata": {},
     "outputs": [],
     "prompt_number": 4
    },
    {
     "cell_type": "markdown",
     "metadata": {},
     "source": [
      "### Representing Data in `scikit-learn`\n",
      "\n",
      "Most machine learning algorithms implemented in scikit-learn expect data to be stored in a\n",
      "**two-dimensional array or matrix**.  The arrays can be\n",
      "either ``numpy`` arrays, or in some cases ``scipy.sparse`` matrices.\n",
      "The size of the array is expected to be `[n_samples, n_features]`\n",
      "\n",
      "- **n_samples:**   The number of samples: each sample is an item to process (e.g. classify).\n",
      "  A sample can be a document, a picture, a sound, a video, an astronomical object,\n",
      "  a row in database or CSV file,\n",
      "  or whatever you can describe with a fixed set of quantitative traits.\n",
      "- **n_features:**  The number of features or distinct traits that can be used to describe each\n",
      "  item in a quantitative manner.  Features are generally real-valued, but may be boolean or\n",
      "  discrete-valued in some cases.\n",
      "\n",
      "The number of features must be fixed in advance. However it can be very high dimensional\n",
      "(e.g. millions of features) with most of them being zeros for a given sample. This is a case\n",
      "where `scipy.sparse` matrices can be useful, in that they are\n",
      "much more memory-efficient than numpy arrays."
     ]
    },
    {
     "cell_type": "markdown",
     "metadata": {},
     "source": [
      "$$\n",
      "{\\rm feature~matrix:~~~} {\\bf X}~=~\\left[\n",
      "\\begin{matrix}\n",
      "x_{11} & x_{12} & \\cdots & x_{1D}\\\\\n",
      "x_{21} & x_{22} & \\cdots & x_{2D}\\\\\n",
      "x_{31} & x_{32} & \\cdots & x_{3D}\\\\\n",
      "\\vdots & \\vdots & \\ddots & \\vdots\\\\\n",
      "\\vdots & \\vdots & \\ddots & \\vdots\\\\\n",
      "x_{N1} & x_{N2} & \\cdots & x_{ND}\\\\\n",
      "\\end{matrix}\n",
      "\\right]\n",
      "$$\n",
      "\n",
      "$$\n",
      "{\\rm label~vector:~~~} {\\bf y}~=~ [y_1, y_2, y_3, \\cdots y_N]\n",
      "$$\n",
      "\n",
      "Here there are $N$ samples and $D$ features.\n",
      "Several example datasets are available in the ``sklearn.datasets`` module"
     ]
    },
    {
     "cell_type": "markdown",
     "metadata": {},
     "source": [
      "### The `scikit-learn` interface\n",
      "\n",
      "A great feature about scikit-learn is the consistant API (Application Programmer Interface) which means that once you have learned how one particular algorithm is implemented in scikit-learn, using another algorithm will look very familiar. \n",
      "\n",
      "All objects within scikit-learn share a uniform common basic API consisting of three complementary interfaces: an **estimator** interface for building and \ufb01tting models, a **predictor** interface for making predictions and a **transformer** interface for converting data.\n",
      "\n",
      "The **estimator** interface is at the core of the library. It de\ufb01nes instantiation mechanisms of objects and exposes a fit method for learning a model from training data. All supervised and unsupervised learning algorithms (*e.g.*, for classi\ufb01cation, regression or clustering) are o\ufb00ered as objects implementing this interface. Machine learning tasks like feature extraction, feature selection or dimensionality reduction are also provided as estimators.\n",
      "\n",
      "Scikit-learn strives to have a uniform interface across all methods; given a scikit-learn *estimator*\n",
      "object named `model`, the following methods are available:\n",
      "\n",
      "- Available in **all Estimators**\n",
      "  + `model.fit()` : fit training data. For supervised learning applications,\n",
      "    this accepts two arguments: the data `X` and the labels `y` (e.g. `model.fit(X, y)`).\n",
      "    For unsupervised learning applications, this accepts only a single argument,\n",
      "    the data `X` (e.g. `model.fit(X)`).\n",
      "- Available in **supervised estimators**\n",
      "  + `model.predict()` : given a trained model, predict the label of a new set of data.\n",
      "    This method accepts one argument, the new data `X_new` (e.g. `model.predict(X_new)`),\n",
      "    and returns the learned label for each object in the array.\n",
      "  + `model.predict_proba()` : For classification problems, some estimators also provide\n",
      "    this method, which returns the probability that a new observation has each categorical label.\n",
      "    In this case, the label with the highest probability is returned by `model.predict()`.\n",
      "  + `model.score()` : for classification or regression problems, most (all?) estimators implement\n",
      "    a score method.  Scores are between 0 and 1, with a larger score indicating a better fit.\n",
      "- Available in **unsupervised estimators**\n",
      "  + `model.transform()` : given an unsupervised model, transform new data into the new basis.\n",
      "    This also accepts one argument `X_new`, and returns the new representation of the data based\n",
      "    on the unsupervised model.\n",
      "  + `model.fit_transform()` : some estimators implement this method,\n",
      "    which more efficiently performs a fit and a transform on the same input data.\n",
      "    \n",
      "The **predictor** interface extends the notion of an estimator by adding a `predict` method that takes an array `X_test` and produces predictions based on the learned parameters of the estimator. In the case of supervised learning estimators, this method typically returns the predicted labels (for *classification*) or values (*regression) computed by the model. Some unsupervised learning estimators may also implement the predict interface, such as k-means, where the predicted values are the cluster labels.\n",
      "\n",
      "Since it is common to modify or \ufb01lter data before feeding it to a learning algorithm, some estimators in the library implement a **transformer** interface which de\ufb01nes a transform method. It takes as input some new data `X_test` and yields as output a transformed version. Preprocessing, feature selection, feature extraction and dimensionality reduction algorithms are all provided as transformers within the library."
     ]
    },
    {
     "cell_type": "markdown",
     "metadata": {},
     "source": [
      "What we're going to do during this session is give an example of **supervised** learning, and more specifically we're going to see how to solve a **classification** problem in scikit-learn, with a focus on how one evaluates the performance of a model. \n",
      "\n",
      "We're going to use a dataset that comes with scikit-learn, which consists in representation of hand-written digits (8 x 8 pixels normalized images) with the associated label (the correct digit)\n",
      "\n",
      "This example is treated in a more comprehensive manner by [Olivier Grisel](http://ogrisel.com/) (see his notebooks [here](https://github.com/ogrisel/parallel_ml_tutorial))"
     ]
    },
    {
     "cell_type": "code",
     "collapsed": false,
     "input": [
      "from sklearn.datasets import load_digits\n",
      "digits = load_digits()\n",
      "print(digits.DESCR)"
     ],
     "language": "python",
     "metadata": {},
     "outputs": [
      {
       "output_type": "stream",
       "stream": "stdout",
       "text": [
        " Optical Recognition of Handwritten Digits Data Set\n",
        "\n",
        "Notes\n",
        "-----\n",
        "Data Set Characteristics:\n",
        "    :Number of Instances: 5620\n",
        "    :Number of Attributes: 64\n",
        "    :Attribute Information: 8x8 image of integer pixels in the range 0..16.\n",
        "    :Missing Attribute Values: None\n",
        "    :Creator: E. Alpaydin (alpaydin '@' boun.edu.tr)\n",
        "    :Date: July; 1998\n",
        "\n",
        "This is a copy of the test set of the UCI ML hand-written digits datasets\n",
        "http://archive.ics.uci.edu/ml/datasets/Optical+Recognition+of+Handwritten+Digits\n",
        "\n",
        "The data set contains images of hand-written digits: 10 classes where\n",
        "each class refers to a digit.\n",
        "\n",
        "Preprocessing programs made available by NIST were used to extract\n",
        "normalized bitmaps of handwritten digits from a preprinted form. From a\n",
        "total of 43 people, 30 contributed to the training set and different 13\n",
        "to the test set. 32x32 bitmaps are divided into nonoverlapping blocks of\n",
        "4x4 and the number of on pixels are counted in each block. This generates\n",
        "an input matrix of 8x8 where each element is an integer in the range\n",
        "0..16. This reduces dimensionality and gives invariance to small\n",
        "distortions.\n",
        "\n",
        "For info on NIST preprocessing routines, see M. D. Garris, J. L. Blue, G.\n",
        "T. Candela, D. L. Dimmick, J. Geist, P. J. Grother, S. A. Janet, and C.\n",
        "L. Wilson, NIST Form-Based Handprint Recognition System, NISTIR 5469,\n",
        "1994.\n",
        "\n",
        "References\n",
        "----------\n",
        "  - C. Kaynak (1995) Methods of Combining Multiple Classifiers and Their\n",
        "    Applications to Handwritten Digit Recognition, MSc Thesis, Institute of\n",
        "    Graduate Studies in Science and Engineering, Bogazici University.\n",
        "  - E. Alpaydin, C. Kaynak (1998) Cascading Classifiers, Kybernetika.\n",
        "  - Ken Tang and Ponnuthurai N. Suganthan and Xi Yao and A. Kai Qin.\n",
        "    Linear dimensionalityreduction using relevance weighted LDA. School of\n",
        "    Electrical and Electronic Engineering Nanyang Technological University.\n",
        "    2005.\n",
        "  - Claudio Gentile. A New Approximate Maximal Margin Classification\n",
        "    Algorithm. NIPS. 2000.\n",
        "\n"
       ]
      }
     ],
     "prompt_number": 5
    },
    {
     "cell_type": "code",
     "collapsed": false,
     "input": [
      "X, y = digits.data, digits.target\n",
      "\n",
      "print(\"data shape: %r, target shape: %r\" % (X.shape, y.shape))\n",
      "print(\"labels: %r\" % list(np.unique(y)))"
     ],
     "language": "python",
     "metadata": {},
     "outputs": [
      {
       "output_type": "stream",
       "stream": "stdout",
       "text": [
        "data shape: (1797, 64), target shape: (1797,)\n",
        "labels: [0, 1, 2, 3, 4, 5, 6, 7, 8, 9]\n"
       ]
      }
     ],
     "prompt_number": 6
    },
    {
     "cell_type": "code",
     "collapsed": false,
     "input": [
      "def plot_gallery(data, labels, shape, interpolation='nearest'):\n",
      "    f,ax = plt.subplots(1,5,figsize=(16,5))\n",
      "    for i in range(data.shape[0]):\n",
      "        ax[i].imshow(data[i].reshape(shape), interpolation=interpolation, cmap=plt.cm.gray_r)\n",
      "        ax[i].set_title(labels[i])\n",
      "        ax[i].set_xticks(()), ax[i].set_yticks(())"
     ],
     "language": "python",
     "metadata": {},
     "outputs": [],
     "prompt_number": 7
    },
    {
     "cell_type": "code",
     "collapsed": false,
     "input": [
      "subsample = np.random.permutation(X.shape[0])[:5]\n",
      "images = X[subsample]\n",
      "labels = ['True label: %d' % l for l in y[subsample]]\n",
      "plot_gallery(images, labels, shape=(8, 8))"
     ],
     "language": "python",
     "metadata": {},
     "outputs": [
      {
       "metadata": {},
       "output_type": "display_data",
       "png": "[encoded data removed]",
       "text": [
        "<matplotlib.figure.Figure at 0x109214750>"
       ]
      }
     ],
     "prompt_number": 8
    },
    {
     "cell_type": "heading",
     "level": 3,
     "metadata": {},
     "source": [
      "example of hand-written digit classification with Support Vector Machines (SVM)"
     ]
    },
    {
     "cell_type": "markdown",
     "metadata": {},
     "source": [
      "We are importing the svm.SVC (Support Vector **Classifier** class) from scikit-learn"
     ]
    },
    {
     "cell_type": "code",
     "collapsed": false,
     "input": [
      "from sklearn.svm import SVC"
     ],
     "language": "python",
     "metadata": {},
     "outputs": [],
     "prompt_number": 9
    },
    {
     "cell_type": "heading",
     "level": 4,
     "metadata": {},
     "source": [
      "instanciation"
     ]
    },
    {
     "cell_type": "code",
     "collapsed": false,
     "input": [
      "svc = SVC()"
     ],
     "language": "python",
     "metadata": {},
     "outputs": [],
     "prompt_number": 10
    },
    {
     "cell_type": "heading",
     "level": 4,
     "metadata": {},
     "source": [
      "fitting"
     ]
    },
    {
     "cell_type": "code",
     "collapsed": false,
     "input": [
      "svc.fit(X, y)"
     ],
     "language": "python",
     "metadata": {},
     "outputs": [
      {
       "metadata": {},
       "output_type": "pyout",
       "prompt_number": 11,
       "text": [
        "SVC(C=1.0, cache_size=200, class_weight=None, coef0=0.0, degree=3, gamma=0.0,\n",
        "  kernel='rbf', max_iter=-1, probability=False, random_state=None,\n",
        "  shrinking=True, tol=0.001, verbose=False)"
       ]
      }
     ],
     "prompt_number": 11
    },
    {
     "cell_type": "heading",
     "level": 4,
     "metadata": {},
     "source": [
      "scoring"
     ]
    },
    {
     "cell_type": "code",
     "collapsed": false,
     "input": [
      "svc.score(X,y)"
     ],
     "language": "python",
     "metadata": {},
     "outputs": [
      {
       "metadata": {},
       "output_type": "pyout",
       "prompt_number": 12,
       "text": [
        "1.0"
       ]
      }
     ],
     "prompt_number": 12
    },
    {
     "cell_type": "heading",
     "level": 4,
     "metadata": {},
     "source": [
      "prediction"
     ]
    },
    {
     "cell_type": "code",
     "collapsed": false,
     "input": [
      "y_hat = svc.predict(X)"
     ],
     "language": "python",
     "metadata": {},
     "outputs": [],
     "prompt_number": 13
    },
    {
     "cell_type": "code",
     "collapsed": false,
     "input": [
      "np.alltrue(y_hat == y)"
     ],
     "language": "python",
     "metadata": {},
     "outputs": [
      {
       "metadata": {},
       "output_type": "pyout",
       "prompt_number": 14,
       "text": [
        "True"
       ]
      }
     ],
     "prompt_number": 14
    },
    {
     "cell_type": "markdown",
     "metadata": {},
     "source": [
      "#### Have we got a perfect model ???"
     ]
    },
    {
     "cell_type": "markdown",
     "metadata": {},
     "source": [
      "Here we are making an important methodological mistake: we are using **all the instances available** to **train** the model, and using the **same** instances to **evaluate** the model in terms of accuracy. It tell us (almost) nothing about the actual performance in production of the model, just how well it can reproduce the data it's been exposed too ...\n",
      "\n",
      "A way to work around that is to train the model over a **subset** of the available instances (the **training set**), calculate the train score, and test the model (i.e. calculate the test score) over the remaining of the instances (the **test set**).\n",
      "\n",
      "**Cross-validation** consists into repeating this operation several times using successive splits of the original dataset into training and test sets, and calculating a summary statistic of the train and test scores over the iterations (usually average).\n",
      "\n",
      "\n",
      "Several splits can be used: \n",
      "\n",
      "+ **Random split**: a given percentage of the data is selected at random (with replacement) \t\n",
      "+ **K-folds**: the dataset is divided into K exhaustive splits, each split is used as the test set, while the K-1 splits are using as the training set\n",
      "+ **Stratified K-folds**:  for classification mainly. The folds are constructed so that the class distribution is approximately the same in each fold (e.g. the relative frequency of each class is preserved)\n",
      "+ **Leave One Out**: like K-fold with K = 1. One instance is left out, the model is built on the N-1 remaining instances, this procedure is repeated until all the instances have been used.\n"
     ]
    },
    {
     "cell_type": "heading",
     "level": 3,
     "metadata": {},
     "source": [
      "cross-validation in scikit-learn"
     ]
    },
    {
     "cell_type": "code",
     "collapsed": false,
     "input": [
      "from sklearn.cross_validation import train_test_split\n",
      "\n",
      "X_train, X_test, y_train, y_test = train_test_split(X, y, \\\n",
      "                                test_size=0.25, random_state=1)\n",
      "\n",
      "print(\"train data shape: %r, train target shape: %r\"\n",
      "      % (X_train.shape, y_train.shape))\n",
      "print(\"test data shape: %r, test target shape: %r\"\n",
      "      % (X_test.shape, y_test.shape))"
     ],
     "language": "python",
     "metadata": {},
     "outputs": [
      {
       "output_type": "stream",
       "stream": "stdout",
       "text": [
        "train data shape: (1347, 64), train target shape: (1347,)\n",
        "test data shape: (450, 64), test target shape: (450,)\n"
       ]
      }
     ],
     "prompt_number": 15
    },
    {
     "cell_type": "code",
     "collapsed": false,
     "input": [
      "svc = SVC().fit(X_train, y_train)\n",
      "train_score = svc.score(X_train, y_train) \n",
      "train_score"
     ],
     "language": "python",
     "metadata": {},
     "outputs": [
      {
       "metadata": {},
       "output_type": "pyout",
       "prompt_number": 16,
       "text": [
        "1.0"
       ]
      }
     ],
     "prompt_number": 16
    },
    {
     "cell_type": "code",
     "collapsed": false,
     "input": [
      "test_score = svc.score(X_test, y_test)\n",
      "test_score"
     ],
     "language": "python",
     "metadata": {},
     "outputs": [
      {
       "metadata": {},
       "output_type": "pyout",
       "prompt_number": 17,
       "text": [
        "0.40888888888888891"
       ]
      }
     ],
     "prompt_number": 17
    },
    {
     "cell_type": "markdown",
     "metadata": {},
     "source": [
      "Ok that seems more like a 'normal' result ...\n",
      "\n",
      "- if the **test** data score is **not as good as** the **train** score the model is **overfitting**\n",
      "\n",
      "- if the **train score is not close to 100%** accuracy the model is **underfitting**\n",
      "\n",
      "Ideally **we want to neither overfit nor underfit**: `test_score ~= train_score ~= 1.0`. \n",
      "\n",
      "When setting up a Support Vector Machine classifier, one needs to set up 2 parameters (hyper-parameters) which are NOT tuned at the fitting stage (they are NOT learned). These are **C** and **$\\gamma$** (see the [relevant section](http://en.wikipedia.org/wiki/Support_vector_machine#Parameter_selection) in the wikipedia article). What we did before is to instanciate the SVC class without specifying these parameters, which means that the default are used. Let's try something else. "
     ]
    },
    {
     "cell_type": "code",
     "collapsed": false,
     "input": [
      "svc_2 = SVC(C=100, gamma=0.001).fit(X_train, y_train)\n",
      "svc_2"
     ],
     "language": "python",
     "metadata": {},
     "outputs": [
      {
       "metadata": {},
       "output_type": "pyout",
       "prompt_number": 18,
       "text": [
        "SVC(C=100, cache_size=200, class_weight=None, coef0=0.0, degree=3,\n",
        "  gamma=0.001, kernel='rbf', max_iter=-1, probability=False,\n",
        "  random_state=None, shrinking=True, tol=0.001, verbose=False)"
       ]
      }
     ],
     "prompt_number": 18
    },
    {
     "cell_type": "code",
     "collapsed": false,
     "input": [
      "svc_2.score(X_train, y_train)"
     ],
     "language": "python",
     "metadata": {},
     "outputs": [
      {
       "metadata": {},
       "output_type": "pyout",
       "prompt_number": 19,
       "text": [
        "1.0"
       ]
      }
     ],
     "prompt_number": 19
    },
    {
     "cell_type": "code",
     "collapsed": false,
     "input": [
      "svc_2.score(X_test, y_test)"
     ],
     "language": "python",
     "metadata": {},
     "outputs": [
      {
       "metadata": {},
       "output_type": "pyout",
       "prompt_number": 20,
       "text": [
        "0.99111111111111116"
       ]
      }
     ],
     "prompt_number": 20
    },
    {
     "cell_type": "code",
     "collapsed": false,
     "input": [
      "sum(svc_2.predict(X_test) == y_test) / float(len(y_test))"
     ],
     "language": "python",
     "metadata": {},
     "outputs": [
      {
       "metadata": {},
       "output_type": "pyout",
       "prompt_number": 21,
       "text": [
        "0.99111111111111116"
       ]
      }
     ],
     "prompt_number": 21
    },
    {
     "cell_type": "markdown",
     "metadata": {},
     "source": [
      "Could be luck (we only used one train / test split here): Now we're going to use **cross validation** to  repeat the train / test split several times to as to get a more accurate estimate of the real test score by averaging the values found of the individual runs\n",
      "\n",
      "scikit-learn provides a very convenient interface to do that: ```sklearn.cross_validation```"
     ]
    },
    {
     "cell_type": "code",
     "collapsed": false,
     "input": [
      "from sklearn import cross_validation"
     ],
     "language": "python",
     "metadata": {},
     "outputs": [],
     "prompt_number": 22
    },
    {
     "cell_type": "code",
     "collapsed": false,
     "input": [
      "cross_validation."
     ],
     "language": "python",
     "metadata": {},
     "outputs": [
      {
       "ename": "SyntaxError",
       "evalue": "invalid syntax (<ipython-input-23-3af9688d9f43>, line 1)",
       "output_type": "pyerr",
       "traceback": [
        "\u001b[0;36m  File \u001b[0;32m\"<ipython-input-23-3af9688d9f43>\"\u001b[0;36m, line \u001b[0;32m1\u001b[0m\n\u001b[0;31m    cross_validation.\u001b[0m\n\u001b[0m                     ^\u001b[0m\n\u001b[0;31mSyntaxError\u001b[0m\u001b[0;31m:\u001b[0m invalid syntax\n"
       ]
      }
     ],
     "prompt_number": 23
    },
    {
     "cell_type": "code",
     "collapsed": false,
     "input": [
      "cross_validation.ShuffleSplit?"
     ],
     "language": "python",
     "metadata": {},
     "outputs": [],
     "prompt_number": 24
    },
    {
     "cell_type": "code",
     "collapsed": false,
     "input": [
      "cv = cross_validation.ShuffleSplit(len(X), n_iter=3, test_size=0.2,\n",
      "    random_state=0)\n",
      "\n",
      "for cv_index, (train, test) in enumerate(cv):\n",
      "    print(\"# Cross Validation Iteration #%d\" % cv_index)\n",
      "    print(\"train indices: {0}...\".format(train[:10]))\n",
      "    print(\"test indices: {0}...\".format(test[:10]))\n",
      "    \n",
      "    svc = SVC(C=100, gamma=0.001).fit(X[train], y[train])\n",
      "    print(\"train score: {0:.3f}, test score: {1:.3f}\\n\".format(\n",
      "        svc.score(X[train], y[train]), svc.score(X[test], y[test])))"
     ],
     "language": "python",
     "metadata": {},
     "outputs": [
      {
       "output_type": "stream",
       "stream": "stdout",
       "text": [
        "# Cross Validation Iteration #0\n",
        "train indices: [1109  940  192  260 1148  966 1720  554  308  512]...\n",
        "test indices: [1081 1707  927  713  262  182  303  895  933 1266]...\n",
        "train score: 1.000, test score: 0.992\n"
       ]
      },
      {
       "output_type": "stream",
       "stream": "stdout",
       "text": [
        "\n",
        "# Cross Validation Iteration #1\n",
        "train indices: [1642  586  142   15  701  472  380 1405 1551  450]...\n",
        "test indices: [1014  755 1633  117  181  501  948 1076   45  659]...\n",
        "train score: 1.000, test score: 0.997\n"
       ]
      },
      {
       "output_type": "stream",
       "stream": "stdout",
       "text": [
        "\n",
        "# Cross Validation Iteration #2\n",
        "train indices: [ 396 1083 1184 1569  560 1502 1722 1162 1316 1685]...\n",
        "test indices: [ 795  697  655  573  412  743  635  851 1466 1383]...\n",
        "train score: 1.000, test score: 0.989\n"
       ]
      },
      {
       "output_type": "stream",
       "stream": "stdout",
       "text": [
        "\n"
       ]
      }
     ],
     "prompt_number": 26
    },
    {
     "cell_type": "markdown",
     "metadata": {},
     "source": [
      "There's a wrapper for estimating cross validated scores directly, you just have to pass the cross validation method instanciated before"
     ]
    },
    {
     "cell_type": "code",
     "collapsed": false,
     "input": [
      "from sklearn.cross_validation import cross_val_score\n",
      "\n",
      "svc = SVC(C=100, gamma=0.001)\n",
      "\n",
      "cv = cross_validation.ShuffleSplit(len(X), n_iter=10, test_size=0.2,\n",
      "    random_state=0)\n",
      "\n",
      "test_scores = cross_val_score(svc, X, y, cv=cv, n_jobs=4) # n_jobs = 4 if you have a quad-core machine ...\n",
      "test_scores"
     ],
     "language": "python",
     "metadata": {},
     "outputs": [
      {
       "metadata": {},
       "output_type": "pyout",
       "prompt_number": 27,
       "text": [
        "array([ 0.99166667,  0.99722222,  0.98888889,  0.99722222,  0.98611111,\n",
        "        0.99722222,  0.98611111,  0.99444444,  0.98611111,  0.99166667])"
       ]
      }
     ],
     "prompt_number": 27
    },
    {
     "cell_type": "markdown",
     "metadata": {},
     "source": [
      "Cross validation can be used to estimate the best hyperparameters for a model\n",
      "\n",
      "Let's see what happens when we fix C but vary $\\gamma$"
     ]
    },
    {
     "cell_type": "code",
     "collapsed": false,
     "input": [
      "n_iter = 5 # the number of iterations should be more than that ... \n",
      "\n",
      "gammas = np.logspace(-7, -1, 10) # should be more fine grained ... \n",
      "\n",
      "cv = cross_validation.ShuffleSplit(len(X), n_iter=n_iter, test_size=0.2)\n",
      "\n",
      "train_scores = np.zeros((len(gammas), n_iter))\n",
      "test_scores = np.zeros((len(gammas), n_iter))\n",
      "\n",
      "for i, gamma in enumerate(gammas):\n",
      "    for j, (train, test) in enumerate(cv):\n",
      "        C = 1\n",
      "        clf = SVC(C=C, gamma=gamma).fit(X[train], y[train])\n",
      "        train_scores[i, j] = clf.score(X[train], y[train])\n",
      "        test_scores[i, j] = clf.score(X[test], y[test])"
     ],
     "language": "python",
     "metadata": {},
     "outputs": [],
     "prompt_number": 28
    },
    {
     "cell_type": "code",
     "collapsed": false,
     "input": [
      "f, ax = plt.subplots(figsize=(12,8))\n",
      "#for i in range(n_iter):\n",
      "#    ax.semilogx(gammas, train_scores[:, i], alpha=0.2, lw=2, c='b')\n",
      "#    ax.semilogx(gammas, test_scores[:, i], alpha=0.2, lw=2, c='g')\n",
      "ax.semilogx(gammas, test_scores.mean(1), lw=4, c='g', label='test score')\n",
      "ax.semilogx(gammas, train_scores.mean(1), lw=4, c='b', label='train score')\n",
      "\n",
      "ax.grid()\n",
      "ax.fill_between(gammas, train_scores.min(1), train_scores.max(1), color = 'b', alpha=0.2)\n",
      "ax.fill_between(gammas, test_scores.min(1), test_scores.max(1), color = 'g', alpha=0.2)\n",
      "\n",
      "ax.set_ylabel(\"score for SVC(C=%4.2f, $\\gamma=\\gamma$)\" % ( C ),fontsize=16)\n",
      "ax.set_xlabel(r\"$\\gamma$\",fontsize=16)\n",
      "best_gamma = gammas[np.argmax(test_scores.mean(1))]\n",
      "best_score = test_scores.mean(1).max()\n",
      "ax.text(best_gamma, best_score+0.05, \"$\\gamma$ = %6.4f | score=%6.4f\" % (best_gamma, best_score),\\\n",
      "        fontsize=15, bbox=dict(facecolor='w',alpha=0.5))\n",
      "[x.set_fontsize(16) for x in ax.xaxis.get_ticklabels()]\n",
      "[x.set_fontsize(16) for x in ax.yaxis.get_ticklabels()]\n",
      "ax.legend(fontsize=16,  loc=0)\n",
      "ax.set_ylim(0, 1.1)\n",
      "ax.grid()"
     ],
     "language": "python",
     "metadata": {},
     "outputs": [
      {
       "metadata": {},
       "output_type": "display_data",
       "png": "[encoded data removed]",
       "text": [
        "<matplotlib.figure.Figure at 0x109605f10>"
       ]
      }
     ],
     "prompt_number": 31
    },
    {
     "cell_type": "heading",
     "level": 3,
     "metadata": {},
     "source": [
      "Grid-search"
     ]
    },
    {
     "cell_type": "markdown",
     "metadata": {},
     "source": [
      "You can search the (hyper) parameter space and find the best hyperparameters using grid search in scikit-learn"
     ]
    },
    {
     "cell_type": "code",
     "collapsed": false,
     "input": [
      "from sklearn.grid_search import GridSearchCV"
     ],
     "language": "python",
     "metadata": {},
     "outputs": []
    },
    {
     "cell_type": "code",
     "collapsed": false,
     "input": [
      "svc_params = {\n",
      "    'C': np.logspace(-1, 2, 4),\n",
      "    'gamma': np.logspace(-4, 0, 5),\n",
      "}"
     ],
     "language": "python",
     "metadata": {},
     "outputs": []
    },
    {
     "cell_type": "code",
     "collapsed": false,
     "input": [
      "gs_svc = GridSearchCV(SVC(), svc_params, cv=3, n_jobs=4)"
     ],
     "language": "python",
     "metadata": {},
     "outputs": []
    },
    {
     "cell_type": "code",
     "collapsed": false,
     "input": [
      "gs_svc.fit(X, y)"
     ],
     "language": "python",
     "metadata": {},
     "outputs": []
    },
    {
     "cell_type": "code",
     "collapsed": false,
     "input": [
      "gs_svc.best_params_, gs_svc.best_score_"
     ],
     "language": "python",
     "metadata": {},
     "outputs": []
    },
    {
     "cell_type": "heading",
     "level": 2,
     "metadata": {},
     "source": [
      "Exercise: predicting the quality of a wine given a set of physicochemical measurements"
     ]
    },
    {
     "cell_type": "markdown",
     "metadata": {},
     "source": [
      "Two datasets were created, using red and white wine samples.\n",
      "The inputs include objective tests (e.g. PH values) and the output is based on sensory data\n",
      "(median of at least 3 evaluations made by wine experts). Each expert graded the wine quality \n",
      "between 0 (very bad) and 10 (very excellent).\n",
      "\n",
      "P. Cortez, A. Cerdeira, F. Almeida, T. Matos and J. Reis. \n",
      "Modeling wine preferences by data mining from physicochemical properties.\n",
      "In Decision Support Systems, Elsevier, 47(4):547-553. ISSN: 0167-9236.\n",
      "\n",
      "This dataset is available from the UC Irvine Machine Learning Repo [http://archive.ics.uci.edu/ml/datasets/Wine+Quality](http://archive.ics.uci.edu/ml/datasets/Wine+Quality)"
     ]
    },
    {
     "cell_type": "markdown",
     "metadata": {},
     "source": [
      "You can try several **classification** approaches for the quality (10 discrete classes for `quality`) or you can try (using either statsmodels or sklearn)\n",
      "**regressions** approaches: e.g. predicting the alcohol content given the other (or subset thereof) measurements."
     ]
    },
    {
     "cell_type": "code",
     "collapsed": false,
     "input": [
      "wine  = pd.read_csv('./data/winequality-red.csv', sep=';')"
     ],
     "language": "python",
     "metadata": {},
     "outputs": [],
     "prompt_number": 51
    },
    {
     "cell_type": "code",
     "collapsed": false,
     "input": [
      "wine.head()"
     ],
     "language": "python",
     "metadata": {},
     "outputs": [
      {
       "html": [
        "<div style=\"max-height:1000px;max-width:1500px;overflow:auto;\">\n",
        "<table border=\"1\" class=\"dataframe\">\n",
        "  <thead>\n",
        "    <tr style=\"text-align: right;\">\n",
        "      <th></th>\n",
        "      <th>fixed acidity</th>\n",
        "      <th>volatile acidity</th>\n",
        "      <th>citric acid</th>\n",
        "      <th>residual sugar</th>\n",
        "      <th>chlorides</th>\n",
        "      <th>free sulfur dioxide</th>\n",
        "      <th>total sulfur dioxide</th>\n",
        "      <th>density</th>\n",
        "      <th>pH</th>\n",
        "      <th>sulphates</th>\n",
        "      <th>alcohol</th>\n",
        "      <th>quality</th>\n",
        "    </tr>\n",
        "  </thead>\n",
        "  <tbody>\n",
        "    <tr>\n",
        "      <th>0</th>\n",
        "      <td>  7.4</td>\n",
        "      <td> 0.70</td>\n",
        "      <td> 0.00</td>\n",
        "      <td> 1.9</td>\n",
        "      <td> 0.076</td>\n",
        "      <td> 11</td>\n",
        "      <td> 34</td>\n",
        "      <td> 0.9978</td>\n",
        "      <td> 3.51</td>\n",
        "      <td> 0.56</td>\n",
        "      <td> 9.4</td>\n",
        "      <td> 5</td>\n",
        "    </tr>\n",
        "    <tr>\n",
        "      <th>1</th>\n",
        "      <td>  7.8</td>\n",
        "      <td> 0.88</td>\n",
        "      <td> 0.00</td>\n",
        "      <td> 2.6</td>\n",
        "      <td> 0.098</td>\n",
        "      <td> 25</td>\n",
        "      <td> 67</td>\n",
        "      <td> 0.9968</td>\n",
        "      <td> 3.20</td>\n",
        "      <td> 0.68</td>\n",
        "      <td> 9.8</td>\n",
        "      <td> 5</td>\n",
        "    </tr>\n",
        "    <tr>\n",
        "      <th>2</th>\n",
        "      <td>  7.8</td>\n",
        "      <td> 0.76</td>\n",
        "      <td> 0.04</td>\n",
        "      <td> 2.3</td>\n",
        "      <td> 0.092</td>\n",
        "      <td> 15</td>\n",
        "      <td> 54</td>\n",
        "      <td> 0.9970</td>\n",
        "      <td> 3.26</td>\n",
        "      <td> 0.65</td>\n",
        "      <td> 9.8</td>\n",
        "      <td> 5</td>\n",
        "    </tr>\n",
        "    <tr>\n",
        "      <th>3</th>\n",
        "      <td> 11.2</td>\n",
        "      <td> 0.28</td>\n",
        "      <td> 0.56</td>\n",
        "      <td> 1.9</td>\n",
        "      <td> 0.075</td>\n",
        "      <td> 17</td>\n",
        "      <td> 60</td>\n",
        "      <td> 0.9980</td>\n",
        "      <td> 3.16</td>\n",
        "      <td> 0.58</td>\n",
        "      <td> 9.8</td>\n",
        "      <td> 6</td>\n",
        "    </tr>\n",
        "    <tr>\n",
        "      <th>4</th>\n",
        "      <td>  7.4</td>\n",
        "      <td> 0.70</td>\n",
        "      <td> 0.00</td>\n",
        "      <td> 1.9</td>\n",
        "      <td> 0.076</td>\n",
        "      <td> 11</td>\n",
        "      <td> 34</td>\n",
        "      <td> 0.9978</td>\n",
        "      <td> 3.51</td>\n",
        "      <td> 0.56</td>\n",
        "      <td> 9.4</td>\n",
        "      <td> 5</td>\n",
        "    </tr>\n",
        "  </tbody>\n",
        "</table>\n",
        "</div>"
       ],
       "metadata": {},
       "output_type": "pyout",
       "prompt_number": 52,
       "text": [
        "   fixed acidity  volatile acidity  citric acid  residual sugar  chlorides  \\\n",
        "0            7.4              0.70         0.00             1.9      0.076   \n",
        "1            7.8              0.88         0.00             2.6      0.098   \n",
        "2            7.8              0.76         0.04             2.3      0.092   \n",
        "3           11.2              0.28         0.56             1.9      0.075   \n",
        "4            7.4              0.70         0.00             1.9      0.076   \n",
        "\n",
        "   free sulfur dioxide  total sulfur dioxide  density    pH  sulphates  \\\n",
        "0                   11                    34   0.9978  3.51       0.56   \n",
        "1                   25                    67   0.9968  3.20       0.68   \n",
        "2                   15                    54   0.9970  3.26       0.65   \n",
        "3                   17                    60   0.9980  3.16       0.58   \n",
        "4                   11                    34   0.9978  3.51       0.56   \n",
        "\n",
        "   alcohol  quality  \n",
        "0      9.4        5  \n",
        "1      9.8        5  \n",
        "2      9.8        5  \n",
        "3      9.8        6  \n",
        "4      9.4        5  "
       ]
      }
     ],
     "prompt_number": 52
    },
    {
     "cell_type": "markdown",
     "metadata": {},
     "source": [
      "Below an example of classification (using the same SVC classifier)  \n",
      "\n",
      "you need to add the cross-validation step"
     ]
    },
    {
     "cell_type": "code",
     "collapsed": false,
     "input": [
      "quality = wine.pop('quality')"
     ],
     "language": "python",
     "metadata": {},
     "outputs": [],
     "prompt_number": 53
    },
    {
     "cell_type": "code",
     "collapsed": false,
     "input": [
      "y = quality.values"
     ],
     "language": "python",
     "metadata": {},
     "outputs": [],
     "prompt_number": 54
    },
    {
     "cell_type": "code",
     "collapsed": false,
     "input": [
      "X = wine.values"
     ],
     "language": "python",
     "metadata": {},
     "outputs": [],
     "prompt_number": 55
    },
    {
     "cell_type": "code",
     "collapsed": false,
     "input": [
      "from sklearn.preprocessing import StandardScaler as scaler"
     ],
     "language": "python",
     "metadata": {},
     "outputs": [],
     "prompt_number": 56
    },
    {
     "cell_type": "code",
     "collapsed": false,
     "input": [
      "scaler = scaler()"
     ],
     "language": "python",
     "metadata": {},
     "outputs": [],
     "prompt_number": 57
    },
    {
     "cell_type": "code",
     "collapsed": false,
     "input": [
      "scaler.fit(X)"
     ],
     "language": "python",
     "metadata": {},
     "outputs": [
      {
       "metadata": {},
       "output_type": "pyout",
       "prompt_number": 58,
       "text": [
        "StandardScaler(copy=True, with_mean=True, with_std=True)"
       ]
      }
     ],
     "prompt_number": 58
    },
    {
     "cell_type": "code",
     "collapsed": false,
     "input": [
      "Xscaled = scaler.transform(X)"
     ],
     "language": "python",
     "metadata": {},
     "outputs": [],
     "prompt_number": 59
    },
    {
     "cell_type": "code",
     "collapsed": false,
     "input": [
      "from sklearn.svm import SVC"
     ],
     "language": "python",
     "metadata": {},
     "outputs": [],
     "prompt_number": 60
    },
    {
     "cell_type": "code",
     "collapsed": false,
     "input": [
      "svc = SVC()"
     ],
     "language": "python",
     "metadata": {},
     "outputs": [],
     "prompt_number": 61
    },
    {
     "cell_type": "code",
     "collapsed": false,
     "input": [
      "svc.fit(Xscaled, y)"
     ],
     "language": "python",
     "metadata": {},
     "outputs": [
      {
       "metadata": {},
       "output_type": "pyout",
       "prompt_number": 62,
       "text": [
        "SVC(C=1.0, cache_size=200, class_weight=None, coef0=0.0, degree=3, gamma=0.0,\n",
        "  kernel='rbf', max_iter=-1, probability=False, random_state=None,\n",
        "  shrinking=True, tol=0.001, verbose=False)"
       ]
      }
     ],
     "prompt_number": 62
    },
    {
     "cell_type": "code",
     "collapsed": false,
     "input": [
      "y_hat = svc.predict(Xscaled)"
     ],
     "language": "python",
     "metadata": {},
     "outputs": [],
     "prompt_number": 63
    },
    {
     "cell_type": "code",
     "collapsed": false,
     "input": [
      "y_hat "
     ],
     "language": "python",
     "metadata": {},
     "outputs": [
      {
       "metadata": {},
       "output_type": "pyout",
       "prompt_number": 64,
       "text": [
        "array([5, 5, 5, ..., 6, 6, 6])"
       ]
      }
     ],
     "prompt_number": 64
    },
    {
     "cell_type": "code",
     "collapsed": false,
     "input": [
      "y"
     ],
     "language": "python",
     "metadata": {},
     "outputs": [
      {
       "metadata": {},
       "output_type": "pyout",
       "prompt_number": 65,
       "text": [
        "array([5, 5, 5, ..., 6, 5, 6])"
       ]
      }
     ],
     "prompt_number": 65
    },
    {
     "cell_type": "code",
     "collapsed": false,
     "input": [
      "svc.score(X, y)"
     ],
     "language": "python",
     "metadata": {},
     "outputs": [
      {
       "metadata": {},
       "output_type": "pyout",
       "prompt_number": 66,
       "text": [
        "0.42589118198874298"
       ]
      }
     ],
     "prompt_number": 66
    },
    {
     "cell_type": "code",
     "collapsed": false,
     "input": [
      "from sklearn.metrics import confusion_matrix"
     ],
     "language": "python",
     "metadata": {},
     "outputs": [],
     "prompt_number": 67
    },
    {
     "cell_type": "code",
     "collapsed": false,
     "input": [
      "confusion_matrix(y, y_hat)"
     ],
     "language": "python",
     "metadata": {},
     "outputs": [
      {
       "metadata": {},
       "output_type": "pyout",
       "prompt_number": 68,
       "text": [
        "array([[  0,   0,   7,   3,   0,   0],\n",
        "       [  0,   1,  38,  13,   1,   0],\n",
        "       [  0,   0, 549, 129,   3,   0],\n",
        "       [  0,   0, 169, 450,  19,   0],\n",
        "       [  0,   0,  10, 115,  74,   0],\n",
        "       [  0,   0,   0,  12,   6,   0]])"
       ]
      }
     ],
     "prompt_number": 68
    }
   ],
   "metadata": {}
  }
 ]
}