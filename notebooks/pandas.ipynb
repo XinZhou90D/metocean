{
 "metadata": {
  "gist_id": "7ff2df68a2861dede6fc",
  "name": "",
  "signature": "sha256:5fb392d3c9aebf6ccc45904757479ea11d750aa2639f28769ed8515733075d97"
 },
 "nbformat": 3,
 "nbformat_minor": 0,
 "worksheets": [
  {
   "cells": [
    {
     "cell_type": "code",
     "collapsed": false,
     "input": [
      "%load_ext load_style\n",
      "%load_style talk.css\n",
      "from IPython.display import Image, HTML\n",
      "import numpy as np\n",
      "import matplotlib.pyplot as plt\n",
      "%matplotlib inline"
     ],
     "language": "python",
     "metadata": {},
     "outputs": [
      {
       "html": [
        "<style>\n",
        "\n",
        ".rendered_html {\n",
        "    font-family: \"proxima-nova\", helvetica;\n",
        "    font-size: 130%;\n",
        "    line-height: 1.5;\n",
        "}\n",
        "\n",
        ".rendered_html h1 {\n",
        "    margin: 0.25em 0em 0.5em;\n",
        "    color: #015C9C;\n",
        "    text-align: center;\n",
        "    line-height: 1.2; \n",
        "    page-break-before: always;\n",
        "}\n",
        "\n",
        ".rendered_html h2 {\n",
        "    margin: 1.1em 0em 0.5em;\n",
        "    color: #26465D;\n",
        "    line-height: 1.2;\n",
        "}\n",
        "\n",
        ".rendered_html h3 {\n",
        "    margin: 1.1em 0em 0.5em;\n",
        "    color: #002845;\n",
        "    line-height: 1.2;\n",
        "}\n",
        "\n",
        ".rendered_html li {\n",
        "    line-height: 1.5; \n",
        "}\n",
        "\n",
        "/*.prompt {\n",
        "    font-size: 120%; \n",
        "}*/\n",
        "\n",
        ".CodeMirror-lines {\n",
        "    font-size: 110%; \n",
        "}\n",
        "\n",
        "/*.output_area {\n",
        "    font-size: 120%; \n",
        "}*/\n",
        "\n",
        "/*#notebook {\n",
        "    background-image: url('files/images/witewall_3.png');\n",
        "}*/\n",
        "\n",
        "h1.bigtitle {\n",
        "    margin: 4cm 1cm 4cm 1cm;\n",
        "    font-size: 300%;\n",
        "}\n",
        "\n",
        "h3.point {\n",
        "    font-size: 200%;\n",
        "    text-align: center;\n",
        "    margin: 2em 0em 2em 0em;\n",
        "    #26465D\n",
        "}\n",
        "\n",
        ".logo {\n",
        "    margin: 20px 0 20px 0;\n",
        "}\n",
        "\n",
        "a.anchor-link {\n",
        "    display: none;\n",
        "}\n",
        "\n",
        "h1.title { \n",
        "    font-size: 250%;\n",
        "}\n",
        "\n",
        "</style>"
       ],
       "metadata": {},
       "output_type": "display_data",
       "text": [
        "<IPython.core.display.HTML at 0x1043b0650>"
       ]
      }
     ],
     "prompt_number": 1
    },
    {
     "cell_type": "heading",
     "level": 1,
     "metadata": {},
     "source": [
      "Pandas"
     ]
    },
    {
     "cell_type": "markdown",
     "metadata": {},
     "source": [
      "**Pandas** is a Python package providing fast, flexible, and expressive data structures designed to work with *relational* or *labeled* data. It is a fundamental high-level building block for doing practical, real world data analysis in Python. \n",
      "\n",
      "pandas is well suited for:\n",
      "\n",
      "- Tabular data with heterogeneously-typed columns, as in an SQL table or Excel spreadsheet\n",
      "- Ordered and unordered (not necessarily fixed-frequency) time series data.\n",
      "- Arbitrary matrix data (homogeneously typed or heterogeneous) with row and column labels\n",
      "- Any other form of observational / statistical data sets. The data actually need not be labeled at all to be placed into a pandas data structure\n",
      "\n",
      "\n",
      "Key features:  \n",
      "    \n",
      "- Easy handling of **missing data**\n",
      "- **Size mutability**: columns can be inserted and deleted from DataFrame and higher dimensional objects\n",
      "- Automatic and explicit **data alignment**: objects can be explicitly aligned to a set of labels, or the data can be aligned automatically\n",
      "- Powerful, flexible **group by functionality** to perform split-apply-combine operations on data sets\n",
      "- Intelligent label-based **slicing, fancy indexing, and subsetting** of large data sets\n",
      "- Intuitive **merging and joining** data sets\n",
      "- Flexible **reshaping and pivoting** of data sets\n",
      "- **Hierarchical labeling** of axes\n",
      "- Robust **IO tools** for loading data from flat files, Excel files, databases, and HDF5\n",
      "- **Time series functionality**: date range generation and frequency conversion, moving window statistics, moving window linear regressions, date shifting and lagging, etc."
     ]
    },
    {
     "cell_type": "code",
     "collapsed": false,
     "input": [
      "HTML('<iframe src=http://pandas.pydata.org/index.html width=900 height=350></iframe>')"
     ],
     "language": "python",
     "metadata": {},
     "outputs": [
      {
       "html": [
        "<iframe src=http://pandas.pydata.org/index.html width=900 height=350></iframe>"
       ],
       "metadata": {},
       "output_type": "pyout",
       "prompt_number": 2,
       "text": [
        "<IPython.core.display.HTML at 0x103f80dd0>"
       ]
      }
     ],
     "prompt_number": 2
    },
    {
     "cell_type": "markdown",
     "metadata": {},
     "source": [
      "The conventional way to import pandas is ```import pandas as pd```"
     ]
    },
    {
     "cell_type": "code",
     "collapsed": false,
     "input": [
      "import pandas as pd"
     ],
     "language": "python",
     "metadata": {},
     "outputs": [],
     "prompt_number": 3
    },
    {
     "cell_type": "markdown",
     "metadata": {},
     "source": [
      "some options setting "
     ]
    },
    {
     "cell_type": "code",
     "collapsed": false,
     "input": [
      "pd.set_option(\"display.width\", 80)\n",
      "# toggle the line below that if one doesnt want DataFrames displayed as HTML tables\n",
      "#pd.set_option(\"notebook_repr_html\", False) \n",
      "pd.set_option(\"notebook_repr_html\", True) "
     ],
     "language": "python",
     "metadata": {},
     "outputs": [],
     "prompt_number": 4
    },
    {
     "cell_type": "markdown",
     "metadata": {},
     "source": [
      "Pandas's data structures and functionalities will be familiar to R users, there's a section on Pandas's website where \n",
      "Wes McKinney gives some translation of common idioms / operations between R and Pandas "
     ]
    },
    {
     "cell_type": "code",
     "collapsed": false,
     "input": [
      "HTML('<iframe src=http://pandas.pydata.org/pandas-docs/stable/comparison_with_r.html#compare-with-r width=900 height=350></iframe>')"
     ],
     "language": "python",
     "metadata": {},
     "outputs": [
      {
       "html": [
        "<iframe src=http://pandas.pydata.org/pandas-docs/stable/comparison_with_r.html#compare-with-r width=900 height=350></iframe>"
       ],
       "metadata": {},
       "output_type": "pyout",
       "prompt_number": 5,
       "text": [
        "<IPython.core.display.HTML at 0x1079261d0>"
       ]
      }
     ],
     "prompt_number": 5
    },
    {
     "cell_type": "heading",
     "level": 2,
     "metadata": {},
     "source": [
      "Pandas data structures"
     ]
    },
    {
     "cell_type": "heading",
     "level": 3,
     "metadata": {},
     "source": [
      "Series"
     ]
    },
    {
     "cell_type": "markdown",
     "metadata": {},
     "source": [
      "\n",
      "A **Series** is a single vector of data values (think a NumPy array with shape N or (N,1)) with an **index** that labels each element in the vector."
     ]
    },
    {
     "cell_type": "heading",
     "level": 4,
     "metadata": {},
     "source": [
      "Series constructions"
     ]
    },
    {
     "cell_type": "code",
     "collapsed": false,
     "input": [
      "a = pd.Series(np.random.normal(0,1,(10,)))"
     ],
     "language": "python",
     "metadata": {},
     "outputs": [],
     "prompt_number": 6
    },
    {
     "cell_type": "code",
     "collapsed": false,
     "input": [
      "a"
     ],
     "language": "python",
     "metadata": {},
     "outputs": [
      {
       "metadata": {},
       "output_type": "pyout",
       "prompt_number": 7,
       "text": [
        "0    0.892233\n",
        "1   -0.528289\n",
        "2    1.005237\n",
        "3   -0.641183\n",
        "4   -0.470177\n",
        "5    0.200492\n",
        "6    1.343393\n",
        "7   -0.855779\n",
        "8   -1.484265\n",
        "9   -0.420734\n",
        "dtype: float64"
       ]
      }
     ],
     "prompt_number": 7
    },
    {
     "cell_type": "code",
     "collapsed": false,
     "input": [
      "a.index"
     ],
     "language": "python",
     "metadata": {},
     "outputs": [
      {
       "metadata": {},
       "output_type": "pyout",
       "prompt_number": 8,
       "text": [
        "Int64Index([0, 1, 2, 3, 4, 5, 6, 7, 8, 9], dtype='int64')"
       ]
      }
     ],
     "prompt_number": 8
    },
    {
     "cell_type": "code",
     "collapsed": false,
     "input": [
      "a.values"
     ],
     "language": "python",
     "metadata": {},
     "outputs": [
      {
       "metadata": {},
       "output_type": "pyout",
       "prompt_number": 9,
       "text": [
        "array([ 0.89223341, -0.52828867,  1.00523736, -0.64118265, -0.47017723,\n",
        "        0.20049166,  1.34339274, -0.8557789 , -1.48426545, -0.42073426])"
       ]
      }
     ],
     "prompt_number": 9
    },
    {
     "cell_type": "markdown",
     "metadata": {},
     "source": [
      "#### You can define your own **index**"
     ]
    },
    {
     "cell_type": "code",
     "collapsed": false,
     "input": [
      "a = pd.Series(np.random.normal(0,1,(10,)), index=np.arange(1,11))"
     ],
     "language": "python",
     "metadata": {},
     "outputs": [],
     "prompt_number": 10
    },
    {
     "cell_type": "code",
     "collapsed": false,
     "input": [
      "a"
     ],
     "language": "python",
     "metadata": {},
     "outputs": [
      {
       "metadata": {},
       "output_type": "pyout",
       "prompt_number": 11,
       "text": [
        "1     2.440286\n",
        "2     0.541111\n",
        "3     0.429330\n",
        "4    -0.595055\n",
        "5    -0.411719\n",
        "6     0.326207\n",
        "7    -0.774586\n",
        "8     0.621720\n",
        "9     0.197423\n",
        "10    1.456126\n",
        "dtype: float64"
       ]
      }
     ],
     "prompt_number": 11
    },
    {
     "cell_type": "code",
     "collapsed": false,
     "input": [
      "a = pd.Series(np.random.normal(0,1,5), \\\n",
      "              index=['a','b','c','d','e'], name='my series')"
     ],
     "language": "python",
     "metadata": {},
     "outputs": [],
     "prompt_number": 12
    },
    {
     "cell_type": "code",
     "collapsed": false,
     "input": [
      "a"
     ],
     "language": "python",
     "metadata": {},
     "outputs": [
      {
       "metadata": {},
       "output_type": "pyout",
       "prompt_number": 13,
       "text": [
        "a    0.142453\n",
        "b   -0.367365\n",
        "c    1.160442\n",
        "d   -0.136229\n",
        "e    0.846886\n",
        "Name: my series, dtype: float64"
       ]
      }
     ],
     "prompt_number": 13
    },
    {
     "cell_type": "markdown",
     "metadata": {},
     "source": [
      "Pandas objects expose some powerful, **high level plotting functions** (built on top of Matplotlib)"
     ]
    },
    {
     "cell_type": "code",
     "collapsed": false,
     "input": [
      "plot = a.plot(kind='bar', rot=0, color='w', hatch='///', title=a.name, width=0.9, grid='off')"
     ],
     "language": "python",
     "metadata": {},
     "outputs": [
      {
       "metadata": {},
       "output_type": "display_data",
       "png": "[encoded data removed]",
       "text": [
        "<matplotlib.figure.Figure at 0x107926850>"
       ]
      }
     ],
     "prompt_number": 14
    },
    {
     "cell_type": "code",
     "collapsed": false,
     "input": [
      "f, ax = plt.subplots()\n",
      "bars = ax.bar(np.arange(len(a)), a.values, color='w', edgecolor='k', align='center', hatch='///')\n",
      "ax.set_xticks(np.arange(len(a)))\n",
      "ax.set_xlim(-0.5, len(a)-0.5)\n",
      "ax.set_xticklabels(a.index)\n",
      "ax.set_title(a.name)"
     ],
     "language": "python",
     "metadata": {},
     "outputs": [
      {
       "metadata": {},
       "output_type": "pyout",
       "prompt_number": 15,
       "text": [
        "<matplotlib.text.Text at 0x107acb850>"
       ]
      },
      {
       "metadata": {},
       "output_type": "display_data",
       "png": "[encoded data removed]",
       "text": [
        "<matplotlib.figure.Figure at 0x10799b810>"
       ]
      }
     ],
     "prompt_number": 15
    },
    {
     "cell_type": "heading",
     "level": 4,
     "metadata": {},
     "source": [
      "Series indexing"
     ]
    },
    {
     "cell_type": "markdown",
     "metadata": {},
     "source": [
      "Selecting from a Series is easy, using the corresponding index key (like a dict)"
     ]
    },
    {
     "cell_type": "code",
     "collapsed": false,
     "input": [
      "a"
     ],
     "language": "python",
     "metadata": {},
     "outputs": [
      {
       "metadata": {},
       "output_type": "pyout",
       "prompt_number": 16,
       "text": [
        "a    0.142453\n",
        "b   -0.367365\n",
        "c    1.160442\n",
        "d   -0.136229\n",
        "e    0.846886\n",
        "Name: my series, dtype: float64"
       ]
      }
     ],
     "prompt_number": 16
    },
    {
     "cell_type": "code",
     "collapsed": false,
     "input": [
      "a['c']"
     ],
     "language": "python",
     "metadata": {},
     "outputs": [
      {
       "metadata": {},
       "output_type": "pyout",
       "prompt_number": 17,
       "text": [
        "1.1604417239194229"
       ]
      }
     ],
     "prompt_number": 17
    },
    {
     "cell_type": "markdown",
     "metadata": {},
     "source": [
      "slices are permitted "
     ]
    },
    {
     "cell_type": "code",
     "collapsed": false,
     "input": [
      "a['a':'c'] ### Note the difference with standard Python / Numpy positional, integer indexing"
     ],
     "language": "python",
     "metadata": {},
     "outputs": [
      {
       "metadata": {},
       "output_type": "pyout",
       "prompt_number": 18,
       "text": [
        "a    0.142453\n",
        "b   -0.367365\n",
        "c    1.160442\n",
        "Name: my series, dtype: float64"
       ]
      }
     ],
     "prompt_number": 18
    },
    {
     "cell_type": "code",
     "collapsed": false,
     "input": [
      "a['c':]"
     ],
     "language": "python",
     "metadata": {},
     "outputs": [
      {
       "metadata": {},
       "output_type": "pyout",
       "prompt_number": 19,
       "text": [
        "c    1.160442\n",
        "d   -0.136229\n",
        "e    0.846886\n",
        "Name: my series, dtype: float64"
       ]
      }
     ],
     "prompt_number": 19
    },
    {
     "cell_type": "markdown",
     "metadata": {},
     "source": [
      "deleting an element "
     ]
    },
    {
     "cell_type": "code",
     "collapsed": false,
     "input": [
      "a.drop('d')"
     ],
     "language": "python",
     "metadata": {},
     "outputs": [
      {
       "metadata": {},
       "output_type": "pyout",
       "prompt_number": 20,
       "text": [
        "a    0.142453\n",
        "b   -0.367365\n",
        "c    1.160442\n",
        "e    0.846886\n",
        "Name: my series, dtype: float64"
       ]
      }
     ],
     "prompt_number": 20
    },
    {
     "cell_type": "markdown",
     "metadata": {},
     "source": [
      "Adding an element is (to my knowledge) not straightforward"
     ]
    },
    {
     "cell_type": "code",
     "collapsed": false,
     "input": [
      "a = a.drop('d')"
     ],
     "language": "python",
     "metadata": {},
     "outputs": [],
     "prompt_number": 21
    },
    {
     "cell_type": "code",
     "collapsed": false,
     "input": [
      "a"
     ],
     "language": "python",
     "metadata": {},
     "outputs": [
      {
       "metadata": {},
       "output_type": "pyout",
       "prompt_number": 22,
       "text": [
        "a    0.142453\n",
        "b   -0.367365\n",
        "c    1.160442\n",
        "e    0.846886\n",
        "Name: my series, dtype: float64"
       ]
      }
     ],
     "prompt_number": 22
    },
    {
     "cell_type": "code",
     "collapsed": false,
     "input": [
      "a.append(pd.Series({'d':5}))"
     ],
     "language": "python",
     "metadata": {},
     "outputs": [
      {
       "metadata": {},
       "output_type": "pyout",
       "prompt_number": 23,
       "text": [
        "a    0.142453\n",
        "b   -0.367365\n",
        "c    1.160442\n",
        "e    0.846886\n",
        "d    5.000000\n",
        "dtype: float64"
       ]
      }
     ],
     "prompt_number": 23
    },
    {
     "cell_type": "markdown",
     "metadata": {},
     "source": [
      "Mathematical operations involving two series will perform operations by *aligning indices*.\n",
      "\n",
      "1. The union of all indices is created\n",
      "2. The mathematical operation is performed on matching indices. \n",
      "\n",
      "Indices that do not match are given the value NaN (not a number), and values are computed for all unique pairs of repeated indices."
     ]
    },
    {
     "cell_type": "code",
     "collapsed": false,
     "input": [
      "s1 = pd.Series(np.arange(1.0,4.0),index=['a','b','c'])\n",
      "s2 = pd.Series(np.arange(1.0,4.0),index=['b','c','d'])"
     ],
     "language": "python",
     "metadata": {},
     "outputs": [],
     "prompt_number": 24
    },
    {
     "cell_type": "code",
     "collapsed": false,
     "input": [
      "s3 = s1 + s2"
     ],
     "language": "python",
     "metadata": {},
     "outputs": [],
     "prompt_number": 25
    },
    {
     "cell_type": "code",
     "collapsed": false,
     "input": [
      "s3"
     ],
     "language": "python",
     "metadata": {},
     "outputs": [
      {
       "metadata": {},
       "output_type": "pyout",
       "prompt_number": 26,
       "text": [
        "a   NaN\n",
        "b     3\n",
        "c     5\n",
        "d   NaN\n",
        "dtype: float64"
       ]
      }
     ],
     "prompt_number": 26
    },
    {
     "cell_type": "markdown",
     "metadata": {},
     "source": [
      "NaNs are ignored in all operations "
     ]
    },
    {
     "cell_type": "code",
     "collapsed": false,
     "input": [
      "s3.mean()"
     ],
     "language": "python",
     "metadata": {},
     "outputs": [
      {
       "metadata": {},
       "output_type": "pyout",
       "prompt_number": 27,
       "text": [
        "4.0"
       ]
      }
     ],
     "prompt_number": 27
    },
    {
     "cell_type": "markdown",
     "metadata": {},
     "source": [
      "You can drop them from the Series"
     ]
    },
    {
     "cell_type": "code",
     "collapsed": false,
     "input": [
      "s4 = s3.dropna()"
     ],
     "language": "python",
     "metadata": {},
     "outputs": [],
     "prompt_number": 28
    },
    {
     "cell_type": "code",
     "collapsed": false,
     "input": [
      "s4"
     ],
     "language": "python",
     "metadata": {},
     "outputs": [
      {
       "metadata": {},
       "output_type": "pyout",
       "prompt_number": 29,
       "text": [
        "b    3\n",
        "c    5\n",
        "dtype: float64"
       ]
      }
     ],
     "prompt_number": 29
    },
    {
     "cell_type": "markdown",
     "metadata": {},
     "source": [
      "Or use the `fillna` method to replace them by a value"
     ]
    },
    {
     "cell_type": "code",
     "collapsed": false,
     "input": [
      "s3.fillna(-999)"
     ],
     "language": "python",
     "metadata": {},
     "outputs": [
      {
       "metadata": {},
       "output_type": "pyout",
       "prompt_number": 30,
       "text": [
        "a   -999\n",
        "b      3\n",
        "c      5\n",
        "d   -999\n",
        "dtype: float64"
       ]
      }
     ],
     "prompt_number": 30
    },
    {
     "cell_type": "code",
     "collapsed": false,
     "input": [
      "s3.fillna(s3.mean())"
     ],
     "language": "python",
     "metadata": {},
     "outputs": [
      {
       "metadata": {},
       "output_type": "pyout",
       "prompt_number": 31,
       "text": [
        "a    4\n",
        "b    3\n",
        "c    5\n",
        "d    4\n",
        "dtype: float64"
       ]
      }
     ],
     "prompt_number": 31
    },
    {
     "cell_type": "heading",
     "level": 4,
     "metadata": {},
     "source": [
      "Series with a date / datetime index (timeseries)"
     ]
    },
    {
     "cell_type": "markdown",
     "metadata": {},
     "source": [
      "Series can have indexes representing dates / times "
     ]
    },
    {
     "cell_type": "code",
     "collapsed": false,
     "input": [
      "a"
     ],
     "language": "python",
     "metadata": {},
     "outputs": []
    },
    {
     "cell_type": "code",
     "collapsed": false,
     "input": [
      "a.index = pd.date_range(start='2014-1-1', periods=len(a)) # default 'period' is daily"
     ],
     "language": "python",
     "metadata": {},
     "outputs": [],
     "prompt_number": 32
    },
    {
     "cell_type": "code",
     "collapsed": false,
     "input": [
      "a.head()"
     ],
     "language": "python",
     "metadata": {},
     "outputs": [
      {
       "metadata": {},
       "output_type": "pyout",
       "prompt_number": 33,
       "text": [
        "2014-01-01    0.142453\n",
        "2014-01-02   -0.367365\n",
        "2014-01-03    1.160442\n",
        "2014-01-04    0.846886\n",
        "Freq: D, Name: my series, dtype: float64"
       ]
      }
     ],
     "prompt_number": 33
    },
    {
     "cell_type": "code",
     "collapsed": false,
     "input": [
      "a.index"
     ],
     "language": "python",
     "metadata": {},
     "outputs": []
    },
    {
     "cell_type": "code",
     "collapsed": false,
     "input": [
      "### but you can convert it to an numpy array of python datetime objects if you want\n",
      "py_datetimes = a.index.to_pydatetime()"
     ],
     "language": "python",
     "metadata": {},
     "outputs": []
    },
    {
     "cell_type": "markdown",
     "metadata": {},
     "source": [
      "And a number of useful methods for manipulation of time series is exposed"
     ]
    },
    {
     "cell_type": "code",
     "collapsed": false,
     "input": [
      "### resample daily time-series to 5 minutes 'period', using forward filling method\n",
      "a.resample('5min',fill_method='ffill')"
     ],
     "language": "python",
     "metadata": {},
     "outputs": [
      {
       "metadata": {},
       "output_type": "pyout",
       "prompt_number": 34,
       "text": [
        "2014-01-01 00:00:00    0.142453\n",
        "2014-01-01 00:05:00    0.142453\n",
        "2014-01-01 00:10:00    0.142453\n",
        "2014-01-01 00:15:00    0.142453\n",
        "2014-01-01 00:20:00    0.142453\n",
        "2014-01-01 00:25:00    0.142453\n",
        "2014-01-01 00:30:00    0.142453\n",
        "2014-01-01 00:35:00    0.142453\n",
        "2014-01-01 00:40:00    0.142453\n",
        "2014-01-01 00:45:00    0.142453\n",
        "2014-01-01 00:50:00    0.142453\n",
        "2014-01-01 00:55:00    0.142453\n",
        "2014-01-01 01:00:00    0.142453\n",
        "2014-01-01 01:05:00    0.142453\n",
        "2014-01-01 01:10:00    0.142453\n",
        "...\n",
        "2014-01-03 22:50:00    1.160442\n",
        "2014-01-03 22:55:00    1.160442\n",
        "2014-01-03 23:00:00    1.160442\n",
        "2014-01-03 23:05:00    1.160442\n",
        "2014-01-03 23:10:00    1.160442\n",
        "2014-01-03 23:15:00    1.160442\n",
        "2014-01-03 23:20:00    1.160442\n",
        "2014-01-03 23:25:00    1.160442\n",
        "2014-01-03 23:30:00    1.160442\n",
        "2014-01-03 23:35:00    1.160442\n",
        "2014-01-03 23:40:00    1.160442\n",
        "2014-01-03 23:45:00    1.160442\n",
        "2014-01-03 23:50:00    1.160442\n",
        "2014-01-03 23:55:00    1.160442\n",
        "2014-01-04 00:00:00    0.846886\n",
        "Freq: 5T, Name: my series, Length: 865"
       ]
      }
     ],
     "prompt_number": 34
    },
    {
     "cell_type": "code",
     "collapsed": false,
     "input": [
      "a"
     ],
     "language": "python",
     "metadata": {},
     "outputs": []
    },
    {
     "cell_type": "code",
     "collapsed": false,
     "input": [
      "### the ```shift``` method makes it easy e.g. to compare series with lead / lags \n",
      "a.shift(periods=-1)"
     ],
     "language": "python",
     "metadata": {},
     "outputs": [
      {
       "metadata": {},
       "output_type": "pyout",
       "prompt_number": 35,
       "text": [
        "2014-01-01   -0.367365\n",
        "2014-01-02    1.160442\n",
        "2014-01-03    0.846886\n",
        "2014-01-04         NaN\n",
        "Freq: D, Name: my series, dtype: float64"
       ]
      }
     ],
     "prompt_number": 35
    },
    {
     "cell_type": "code",
     "collapsed": false,
     "input": [
      "a"
     ],
     "language": "python",
     "metadata": {},
     "outputs": []
    },
    {
     "cell_type": "code",
     "collapsed": false,
     "input": [
      "### and the ```truncate`` method allows easy selection of time-slices\n",
      "a.truncate(after='2014-1-2')"
     ],
     "language": "python",
     "metadata": {},
     "outputs": [
      {
       "metadata": {},
       "output_type": "pyout",
       "prompt_number": 36,
       "text": [
        "2014-01-01    0.142453\n",
        "2014-01-02   -0.367365\n",
        "Freq: D, Name: my series, dtype: float64"
       ]
      }
     ],
     "prompt_number": 36
    },
    {
     "cell_type": "heading",
     "level": 3,
     "metadata": {},
     "source": [
      "DataFrames"
     ]
    },
    {
     "cell_type": "markdown",
     "metadata": {},
     "source": [
      "**DataFrames** are IMHO one of the most powerful data structures in the Python / data analysis world. \n",
      "\n",
      "They can be viewed as a *collection* of named Series. They feature two **indexes**, respectively for the rows and the columns, and can contain heteregoneous data types (although it must be consistent *within* each column). \n",
      "Note that a DataFrame index, either along the rows or the columns (or both !) can contain more than one level, they are called **hierarchical indexes** and allows the representation of complex data organisation. \n",
      "\n",
      "If the index along the rows of a DataFrame is of **datetime** type, all the methods exposed for the Series (re-sampling, shifting, truncating, etc) are available for the DataFrame."
     ]
    },
    {
     "cell_type": "heading",
     "level": 4,
     "metadata": {},
     "source": [
      "DataFrame constructions"
     ]
    },
    {
     "cell_type": "code",
     "collapsed": false,
     "input": [
      "import string # part of the standard library\n",
      "idx = list(string.lowercase[:10])\n",
      "print(idx)"
     ],
     "language": "python",
     "metadata": {},
     "outputs": []
    },
    {
     "cell_type": "code",
     "collapsed": false,
     "input": [
      "df = pd.DataFrame(np.arange(100).reshape(10,10),\\\n",
      "                  columns=idx,index=np.arange(1,11))"
     ],
     "language": "python",
     "metadata": {},
     "outputs": []
    },
    {
     "cell_type": "code",
     "collapsed": false,
     "input": [
      "df"
     ],
     "language": "python",
     "metadata": {},
     "outputs": []
    },
    {
     "cell_type": "code",
     "collapsed": false,
     "input": [
      "### here I am creating a DataFrame from a dictionnary\n",
      "\n",
      "df = pd.DataFrame({'A' : np.random.random(5),\\\n",
      "                   'B' : np.random.random(5),\\\n",
      "                   'C': np.random.random(5)}, index=np.arange(1,6))\n",
      "print df"
     ],
     "language": "python",
     "metadata": {},
     "outputs": []
    },
    {
     "cell_type": "code",
     "collapsed": false,
     "input": [
      "df"
     ],
     "language": "python",
     "metadata": {},
     "outputs": []
    },
    {
     "cell_type": "heading",
     "level": 4,
     "metadata": {},
     "source": [
      "Indexing a DataFrame"
     ]
    },
    {
     "cell_type": "markdown",
     "metadata": {},
     "source": [
      "different ways, return either a Series or a DataFrame"
     ]
    },
    {
     "cell_type": "code",
     "collapsed": false,
     "input": [
      "type(df['A'])"
     ],
     "language": "python",
     "metadata": {},
     "outputs": []
    },
    {
     "cell_type": "code",
     "collapsed": false,
     "input": [
      "df[['A']]"
     ],
     "language": "python",
     "metadata": {},
     "outputs": []
    },
    {
     "cell_type": "code",
     "collapsed": false,
     "input": [
      "type(df['A']) "
     ],
     "language": "python",
     "metadata": {},
     "outputs": []
    },
    {
     "cell_type": "code",
     "collapsed": false,
     "input": [
      "type(df[['A']])"
     ],
     "language": "python",
     "metadata": {},
     "outputs": []
    },
    {
     "cell_type": "markdown",
     "metadata": {},
     "source": [
      "To access a particular *row* instead of a column, you use the *ix* method"
     ]
    },
    {
     "cell_type": "code",
     "collapsed": false,
     "input": [
      "df.ix[3]"
     ],
     "language": "python",
     "metadata": {},
     "outputs": []
    },
    {
     "cell_type": "code",
     "collapsed": false,
     "input": [
      "df"
     ],
     "language": "python",
     "metadata": {},
     "outputs": []
    },
    {
     "cell_type": "markdown",
     "metadata": {},
     "source": [
      "access values per **positional indices** only"
     ]
    },
    {
     "cell_type": "code",
     "collapsed": false,
     "input": [
      "df.iloc[2,0:2]"
     ],
     "language": "python",
     "metadata": {},
     "outputs": []
    },
    {
     "cell_type": "code",
     "collapsed": false,
     "input": [
      "type(_)"
     ],
     "language": "python",
     "metadata": {},
     "outputs": []
    },
    {
     "cell_type": "markdown",
     "metadata": {},
     "source": [
      "And you can combine of course row (with ix) and column indexing, using the same convention for slices as we saw for the Series "
     ]
    },
    {
     "cell_type": "code",
     "collapsed": false,
     "input": [
      "df.ix[3]['A':'B']"
     ],
     "language": "python",
     "metadata": {},
     "outputs": []
    },
    {
     "cell_type": "code",
     "collapsed": false,
     "input": [
      "df.ix[3][['A','C']]"
     ],
     "language": "python",
     "metadata": {},
     "outputs": []
    },
    {
     "cell_type": "markdown",
     "metadata": {},
     "source": [
      "you can also use the `loc` method, giving it both row **AND** columns indexes \n",
      "(the indexing is based on the *label*, **NOT** on the *position*)"
     ]
    },
    {
     "cell_type": "code",
     "collapsed": false,
     "input": [
      "df"
     ],
     "language": "python",
     "metadata": {},
     "outputs": []
    },
    {
     "cell_type": "code",
     "collapsed": false,
     "input": [
      "df.loc[[3,5],['A','B']]"
     ],
     "language": "python",
     "metadata": {},
     "outputs": []
    },
    {
     "cell_type": "markdown",
     "metadata": {},
     "source": [
      "conditional indexing or subsetting of a DataFrame "
     ]
    },
    {
     "cell_type": "code",
     "collapsed": false,
     "input": [
      "df"
     ],
     "language": "python",
     "metadata": {},
     "outputs": []
    },
    {
     "cell_type": "code",
     "collapsed": false,
     "input": [
      "subset = df[df['A'] <= 0.7]"
     ],
     "language": "python",
     "metadata": {},
     "outputs": []
    },
    {
     "cell_type": "code",
     "collapsed": false,
     "input": [
      "subset"
     ],
     "language": "python",
     "metadata": {},
     "outputs": []
    },
    {
     "cell_type": "heading",
     "level": 4,
     "metadata": {},
     "source": [
      "queries"
     ]
    },
    {
     "cell_type": "markdown",
     "metadata": {},
     "source": [
      "as from Pandas version 0.14, you can build complex *database-like* queries on DataFrames"
     ]
    },
    {
     "cell_type": "code",
     "collapsed": false,
     "input": [
      "df"
     ],
     "language": "python",
     "metadata": {},
     "outputs": []
    },
    {
     "cell_type": "code",
     "collapsed": false,
     "input": [
      "df.query('A > B')"
     ],
     "language": "python",
     "metadata": {},
     "outputs": []
    },
    {
     "cell_type": "code",
     "collapsed": false,
     "input": [
      "df.query('(A > B) & (B > C)')"
     ],
     "language": "python",
     "metadata": {},
     "outputs": []
    },
    {
     "cell_type": "heading",
     "level": 4,
     "metadata": {},
     "source": [
      "Extending a DataFrame"
     ]
    },
    {
     "cell_type": "markdown",
     "metadata": {},
     "source": [
      "Adding a column is easy "
     ]
    },
    {
     "cell_type": "code",
     "collapsed": false,
     "input": [
      "df"
     ],
     "language": "python",
     "metadata": {},
     "outputs": []
    },
    {
     "cell_type": "code",
     "collapsed": false,
     "input": [
      "df['D'] = np.random.random(5)"
     ],
     "language": "python",
     "metadata": {},
     "outputs": []
    },
    {
     "cell_type": "code",
     "collapsed": false,
     "input": [
      "df"
     ],
     "language": "python",
     "metadata": {},
     "outputs": []
    },
    {
     "cell_type": "markdown",
     "metadata": {},
     "source": [
      "The following works because Pandas understands that a single value must be repeated over the row length"
     ]
    },
    {
     "cell_type": "code",
     "collapsed": false,
     "input": [
      "df['E'] = 5"
     ],
     "language": "python",
     "metadata": {},
     "outputs": []
    },
    {
     "cell_type": "code",
     "collapsed": false,
     "input": [
      "df"
     ],
     "language": "python",
     "metadata": {},
     "outputs": []
    },
    {
     "cell_type": "markdown",
     "metadata": {},
     "source": [
      "The following doesn't work because there's no way to tell **where** to insert the missing value (align to 1st or last index ?)"
     ]
    },
    {
     "cell_type": "code",
     "collapsed": false,
     "input": [
      "df['F'] = np.random.random(4)"
     ],
     "language": "python",
     "metadata": {},
     "outputs": []
    },
    {
     "cell_type": "markdown",
     "metadata": {},
     "source": [
      "Unless we make a series out of it, with a index matching at least partly the DataFrame (row) index"
     ]
    },
    {
     "cell_type": "code",
     "collapsed": false,
     "input": [
      "df['F'] = pd.Series(np.random.random(4), index=np.arange(1,5)) #"
     ],
     "language": "python",
     "metadata": {},
     "outputs": []
    },
    {
     "cell_type": "code",
     "collapsed": false,
     "input": [
      "df"
     ],
     "language": "python",
     "metadata": {},
     "outputs": []
    },
    {
     "cell_type": "heading",
     "level": 4,
     "metadata": {},
     "source": [
      "Useful DataFrames methods"
     ]
    },
    {
     "cell_type": "heading",
     "level": 5,
     "metadata": {},
     "source": [
      "applying a numpy function"
     ]
    },
    {
     "cell_type": "code",
     "collapsed": false,
     "input": [
      "df.apply(np.sqrt) # or np.sqrt(df)"
     ],
     "language": "python",
     "metadata": {},
     "outputs": []
    },
    {
     "cell_type": "heading",
     "level": 5,
     "metadata": {},
     "source": [
      "summarizing data"
     ]
    },
    {
     "cell_type": "code",
     "collapsed": false,
     "input": [
      "df.describe().T"
     ],
     "language": "python",
     "metadata": {},
     "outputs": []
    },
    {
     "cell_type": "heading",
     "level": 5,
     "metadata": {},
     "source": [
      "replacing values"
     ]
    },
    {
     "cell_type": "code",
     "collapsed": false,
     "input": [
      "df.head()"
     ],
     "language": "python",
     "metadata": {},
     "outputs": []
    },
    {
     "cell_type": "code",
     "collapsed": false,
     "input": [
      "df['E'].replace(5, 0.0, inplace=True) \n",
      "# you can use dictionnary to multiple replacements"
     ],
     "language": "python",
     "metadata": {},
     "outputs": []
    },
    {
     "cell_type": "code",
     "collapsed": false,
     "input": [
      "df"
     ],
     "language": "python",
     "metadata": {},
     "outputs": []
    },
    {
     "cell_type": "heading",
     "level": 4,
     "metadata": {},
     "source": [
      "DataFrame high-level plotting functions"
     ]
    },
    {
     "cell_type": "code",
     "collapsed": false,
     "input": [
      "df.plot();"
     ],
     "language": "python",
     "metadata": {},
     "outputs": []
    },
    {
     "cell_type": "code",
     "collapsed": false,
     "input": [
      "df.drop('E', axis=1).plot(figsize=(8,12), \\\n",
      "                          subplots=True, \\\n",
      "                          sharex=True, \\\n",
      "                          kind='bar', rot=0); "
     ],
     "language": "python",
     "metadata": {},
     "outputs": []
    },
    {
     "cell_type": "code",
     "collapsed": false,
     "input": [
      "import pandas as pd\n",
      "from sklearn.datasets import load_iris\n",
      " \n",
      "iris = load_iris()\n",
      " \n",
      "iris = pd.DataFrame(iris.data, columns=iris.feature_names)"
     ],
     "language": "python",
     "metadata": {},
     "outputs": []
    },
    {
     "cell_type": "code",
     "collapsed": false,
     "input": [
      "iris.head()"
     ],
     "language": "python",
     "metadata": {},
     "outputs": []
    },
    {
     "cell_type": "code",
     "collapsed": false,
     "input": [
      "iris.hist(); "
     ],
     "language": "python",
     "metadata": {},
     "outputs": []
    },
    {
     "cell_type": "code",
     "collapsed": false,
     "input": [
      "HTML('<iframe src=http://pandas.pydata.org/pandas-docs/stable/visualization.html width=1000 height=350></iframe>')"
     ],
     "language": "python",
     "metadata": {},
     "outputs": []
    },
    {
     "cell_type": "heading",
     "level": 3,
     "metadata": {},
     "source": [
      "Input and Output in pandas"
     ]
    },
    {
     "cell_type": "markdown",
     "metadata": {},
     "source": [
      "Pandas has very powerful IO methods, allowing to load csv, excel, tab-delimited files very easily. Pandas DataFrames can also be \n",
      "saved also in csv, excel files. \n",
      "\n",
      "Other supported file types are: \n",
      "\n",
      "* JSON (JavaScript Object Notation)\n",
      "* HDF5 \n",
      "* HTML (to e.g. read tables contained in HTML documents)\n",
      "* SQL (Pandas can **query directly from SQL databases** thanks to [SQLAlchemy](http://www.sqlalchemy.org/))\n",
      "* ..."
     ]
    },
    {
     "cell_type": "code",
     "collapsed": false,
     "input": [
      "pd.read"
     ],
     "language": "python",
     "metadata": {},
     "outputs": []
    },
    {
     "cell_type": "code",
     "collapsed": false,
     "input": [
      "SOI = pd.read_csv('../data/NIWA_SOI.csv')"
     ],
     "language": "python",
     "metadata": {},
     "outputs": []
    },
    {
     "cell_type": "code",
     "collapsed": false,
     "input": [
      "SOI.head()"
     ],
     "language": "python",
     "metadata": {},
     "outputs": []
    },
    {
     "cell_type": "code",
     "collapsed": false,
     "input": [
      "SOI = pd.read_csv('../data/NIWA_SOI.csv', index_col=0)"
     ],
     "language": "python",
     "metadata": {},
     "outputs": []
    },
    {
     "cell_type": "code",
     "collapsed": false,
     "input": [
      "SOI.head()"
     ],
     "language": "python",
     "metadata": {},
     "outputs": []
    },
    {
     "cell_type": "code",
     "collapsed": false,
     "input": [
      "SOI.ix[1950:2000].head()"
     ],
     "language": "python",
     "metadata": {},
     "outputs": []
    },
    {
     "cell_type": "markdown",
     "metadata": {},
     "source": [
      "#### Stacking "
     ]
    },
    {
     "cell_type": "code",
     "collapsed": false,
     "input": [
      "SOIs = SOI.stack()"
     ],
     "language": "python",
     "metadata": {},
     "outputs": []
    },
    {
     "cell_type": "code",
     "collapsed": false,
     "input": [
      "SOIs.head()"
     ],
     "language": "python",
     "metadata": {},
     "outputs": []
    },
    {
     "cell_type": "code",
     "collapsed": false,
     "input": [
      "SOIs.index"
     ],
     "language": "python",
     "metadata": {},
     "outputs": []
    },
    {
     "cell_type": "code",
     "collapsed": false,
     "input": [
      "from dateutil import parser"
     ],
     "language": "python",
     "metadata": {},
     "outputs": []
    },
    {
     "cell_type": "code",
     "collapsed": false,
     "input": [
      "dateindex = [parser.parse(\"-\".join(map(str, [x[0], x[1], 1]))) for x in SOIs.index]"
     ],
     "language": "python",
     "metadata": {},
     "outputs": []
    },
    {
     "cell_type": "code",
     "collapsed": false,
     "input": [
      "SOIs.index=dateindex"
     ],
     "language": "python",
     "metadata": {},
     "outputs": []
    },
    {
     "cell_type": "code",
     "collapsed": false,
     "input": [
      "SOIs.head()"
     ],
     "language": "python",
     "metadata": {},
     "outputs": []
    },
    {
     "cell_type": "code",
     "collapsed": false,
     "input": [
      "SOIs.plot(figsize=(12,5))"
     ],
     "language": "python",
     "metadata": {},
     "outputs": []
    },
    {
     "cell_type": "code",
     "collapsed": false,
     "input": [
      "pd.rolling_mean(SOIs,12).plot()"
     ],
     "language": "python",
     "metadata": {},
     "outputs": []
    },
    {
     "cell_type": "heading",
     "level": 5,
     "metadata": {},
     "source": [
      "Saving in csv, excel etc"
     ]
    },
    {
     "cell_type": "code",
     "collapsed": false,
     "input": [
      "SOIs = pd.DataFrame(SOIs)"
     ],
     "language": "python",
     "metadata": {},
     "outputs": []
    },
    {
     "cell_type": "code",
     "collapsed": false,
     "input": [
      "SOIs.to_excel('../data/SOI_time_series.xlsx', header=False)"
     ],
     "language": "python",
     "metadata": {},
     "outputs": []
    },
    {
     "cell_type": "code",
     "collapsed": false,
     "input": [
      "#!open ./data/SOI_time_series.xlsx"
     ],
     "language": "python",
     "metadata": {},
     "outputs": []
    },
    {
     "cell_type": "heading",
     "level": 4,
     "metadata": {},
     "source": [
      "Reading Excel files"
     ]
    },
    {
     "cell_type": "markdown",
     "metadata": {},
     "source": [
      "first example: an Excel file, containing one sheet, with an Excel `dates` column"
     ]
    },
    {
     "cell_type": "code",
     "collapsed": false,
     "input": [
      "!open ../data/ISO_datetime.xls"
     ],
     "language": "python",
     "metadata": {},
     "outputs": [],
     "prompt_number": 38
    },
    {
     "cell_type": "code",
     "collapsed": false,
     "input": [
      "data = pd.read_excel('../data/ISO_datetime.xls', sheetname='Sheet1')"
     ],
     "language": "python",
     "metadata": {},
     "outputs": [],
     "prompt_number": 39
    },
    {
     "cell_type": "code",
     "collapsed": false,
     "input": [
      "data.head()"
     ],
     "language": "python",
     "metadata": {},
     "outputs": [
      {
       "html": [
        "<div style=\"max-height:1000px;max-width:1500px;overflow:auto;\">\n",
        "<table border=\"1\" class=\"dataframe\">\n",
        "  <thead>\n",
        "    <tr style=\"text-align: right;\">\n",
        "      <th></th>\n",
        "      <th>date</th>\n",
        "      <th>value</th>\n",
        "    </tr>\n",
        "  </thead>\n",
        "  <tbody>\n",
        "    <tr>\n",
        "      <th>0</th>\n",
        "      <td>2014-01-02</td>\n",
        "      <td> 0.786299</td>\n",
        "    </tr>\n",
        "    <tr>\n",
        "      <th>1</th>\n",
        "      <td>2014-01-03</td>\n",
        "      <td> 0.354398</td>\n",
        "    </tr>\n",
        "    <tr>\n",
        "      <th>2</th>\n",
        "      <td>2014-01-04</td>\n",
        "      <td> 0.747329</td>\n",
        "    </tr>\n",
        "    <tr>\n",
        "      <th>3</th>\n",
        "      <td>2014-01-05</td>\n",
        "      <td> 0.461564</td>\n",
        "    </tr>\n",
        "    <tr>\n",
        "      <th>4</th>\n",
        "      <td>2014-01-06</td>\n",
        "      <td> 0.626105</td>\n",
        "    </tr>\n",
        "  </tbody>\n",
        "</table>\n",
        "</div>"
       ],
       "metadata": {},
       "output_type": "pyout",
       "prompt_number": 40,
       "text": [
        "        date     value\n",
        "0 2014-01-02  0.786299\n",
        "1 2014-01-03  0.354398\n",
        "2 2014-01-04  0.747329\n",
        "3 2014-01-05  0.461564\n",
        "4 2014-01-06  0.626105"
       ]
      }
     ],
     "prompt_number": 40
    },
    {
     "cell_type": "code",
     "collapsed": false,
     "input": [
      "data.date"
     ],
     "language": "python",
     "metadata": {},
     "outputs": []
    },
    {
     "cell_type": "code",
     "collapsed": false,
     "input": [
      "data = pd.read_excel('../data/ISO_datetime.xls', \\\n",
      "                     sheetname='Sheet1', index_col=0)"
     ],
     "language": "python",
     "metadata": {},
     "outputs": [],
     "prompt_number": 41
    },
    {
     "cell_type": "code",
     "collapsed": false,
     "input": [
      "data.index"
     ],
     "language": "python",
     "metadata": {},
     "outputs": [
      {
       "metadata": {},
       "output_type": "pyout",
       "prompt_number": 43,
       "text": [
        "<class 'pandas.tseries.index.DatetimeIndex'>\n",
        "[2014-01-02, ..., 2014-01-11]\n",
        "Length: 10, Freq: None, Timezone: None"
       ]
      }
     ],
     "prompt_number": 43
    },
    {
     "cell_type": "heading",
     "level": 4,
     "metadata": {},
     "source": [
      "correctly parsing date(times) when date and time information are contained in different columns"
     ]
    },
    {
     "cell_type": "code",
     "collapsed": false,
     "input": [
      "!open ../data/year_month_day.xlsx"
     ],
     "language": "python",
     "metadata": {},
     "outputs": [],
     "prompt_number": 44
    },
    {
     "cell_type": "code",
     "collapsed": false,
     "input": [
      "ymd = pd.read_excel('../data/year_month_day.xlsx', sheetname='Sheet1')\n",
      "ymd.head()"
     ],
     "language": "python",
     "metadata": {},
     "outputs": []
    },
    {
     "cell_type": "code",
     "collapsed": false,
     "input": [
      "ymd = pd.read_excel('../data/year_month_day.xlsx', sheetname='Sheet1', \\\n",
      "                    parse_dates = {'date': [0, 1, 2]}, \\\n",
      "                    index_col='date')\n",
      "ymd.head()"
     ],
     "language": "python",
     "metadata": {},
     "outputs": [
      {
       "html": [
        "<div style=\"max-height:1000px;max-width:1500px;overflow:auto;\">\n",
        "<table border=\"1\" class=\"dataframe\">\n",
        "  <thead>\n",
        "    <tr style=\"text-align: right;\">\n",
        "      <th></th>\n",
        "      <th>value</th>\n",
        "    </tr>\n",
        "    <tr>\n",
        "      <th>date</th>\n",
        "      <th></th>\n",
        "    </tr>\n",
        "  </thead>\n",
        "  <tbody>\n",
        "    <tr>\n",
        "      <th>2014-01-02</th>\n",
        "      <td> 0.786299</td>\n",
        "    </tr>\n",
        "    <tr>\n",
        "      <th>2014-01-03</th>\n",
        "      <td> 0.354398</td>\n",
        "    </tr>\n",
        "    <tr>\n",
        "      <th>2014-01-04</th>\n",
        "      <td> 0.747329</td>\n",
        "    </tr>\n",
        "    <tr>\n",
        "      <th>2014-01-05</th>\n",
        "      <td> 0.461564</td>\n",
        "    </tr>\n",
        "    <tr>\n",
        "      <th>2014-01-06</th>\n",
        "      <td> 0.626105</td>\n",
        "    </tr>\n",
        "  </tbody>\n",
        "</table>\n",
        "</div>"
       ],
       "metadata": {},
       "output_type": "pyout",
       "prompt_number": 45,
       "text": [
        "               value\n",
        "date                \n",
        "2014-01-02  0.786299\n",
        "2014-01-03  0.354398\n",
        "2014-01-04  0.747329\n",
        "2014-01-05  0.461564\n",
        "2014-01-06  0.626105"
       ]
      }
     ],
     "prompt_number": 45
    },
    {
     "cell_type": "code",
     "collapsed": false,
     "input": [
      "myd = pd.read_excel('../data/year_month_day.xlsx', sheetname='Sheet2'); myd.head()"
     ],
     "language": "python",
     "metadata": {},
     "outputs": []
    },
    {
     "cell_type": "code",
     "collapsed": false,
     "input": [
      "myd = pd.read_excel('../data/year_month_day.xlsx', sheetname='Sheet2',\\\n",
      "                    parse_dates = {'date': [1, 0, 2]}, \\\n",
      "                    index_col='date'); \n",
      "myd.head()"
     ],
     "language": "python",
     "metadata": {},
     "outputs": [
      {
       "html": [
        "<div style=\"max-height:1000px;max-width:1500px;overflow:auto;\">\n",
        "<table border=\"1\" class=\"dataframe\">\n",
        "  <thead>\n",
        "    <tr style=\"text-align: right;\">\n",
        "      <th></th>\n",
        "      <th>value</th>\n",
        "    </tr>\n",
        "    <tr>\n",
        "      <th>date</th>\n",
        "      <th></th>\n",
        "    </tr>\n",
        "  </thead>\n",
        "  <tbody>\n",
        "    <tr>\n",
        "      <th>2014-01-02</th>\n",
        "      <td> 0.478467</td>\n",
        "    </tr>\n",
        "    <tr>\n",
        "      <th>2014-01-03</th>\n",
        "      <td> 0.833801</td>\n",
        "    </tr>\n",
        "    <tr>\n",
        "      <th>2014-01-04</th>\n",
        "      <td> 0.837646</td>\n",
        "    </tr>\n",
        "    <tr>\n",
        "      <th>2014-01-05</th>\n",
        "      <td> 0.453646</td>\n",
        "    </tr>\n",
        "    <tr>\n",
        "      <th>2014-01-06</th>\n",
        "      <td> 0.260355</td>\n",
        "    </tr>\n",
        "  </tbody>\n",
        "</table>\n",
        "</div>"
       ],
       "metadata": {},
       "output_type": "pyout",
       "prompt_number": 46,
       "text": [
        "               value\n",
        "date                \n",
        "2014-01-02  0.478467\n",
        "2014-01-03  0.833801\n",
        "2014-01-04  0.837646\n",
        "2014-01-05  0.453646\n",
        "2014-01-06  0.260355"
       ]
      }
     ],
     "prompt_number": 46
    },
    {
     "cell_type": "heading",
     "level": 3,
     "metadata": {},
     "source": [
      "groupby operations in Pandas "
     ]
    },
    {
     "cell_type": "markdown",
     "metadata": {},
     "source": [
      "The **groupby** method is a very powerful method of pandas DataFrames, in a nutschell it allows you to\n",
      "\n",
      "1. **split** your data according to unique values of a variable (or unique *combinations* of *N* variables)\n",
      "\n",
      "2. **apply** some operation to the groups thus defined, either an *aggregation* or *transformation* method \n",
      "\n",
      "3. **combine** the results into a DataFrame\n",
      "\n",
      "This process is illustrated below, where the operation is here calculating the mean of the groups's values\n",
      "\n",
      "A very nice explanation of the **groupby** method, with examples, is available from Pandas's documentation at:  \n",
      "\n",
      "[http://pandas.pydata.org/pandas-docs/stable/groupby.html](http://pandas.pydata.org/pandas-docs/stable/groupby.html)\n",
      "\n",
      "and a short tutorial on Wes McKinney's blog [here](http://wesmckinney.com/blog/?p=125)"
     ]
    },
    {
     "cell_type": "code",
     "collapsed": false,
     "input": [
      "Image(filename='images/split-apply-combine.png', width=800)"
     ],
     "language": "python",
     "metadata": {},
     "outputs": [
      {
       "metadata": {
        "png": {
         "width": 800
        }
       },
       "output_type": "pyout",
       "png": "[encoded data removed]",
       "prompt_number": 47,
       "text": [
        "<IPython.core.display.Image at 0x10809df90>"
       ]
      }
     ],
     "prompt_number": 47
    },
    {
     "cell_type": "code",
     "collapsed": false,
     "input": [
      "url = \"ftp://ftp.cpc.ncep.noaa.gov/wd52dg/data/indices/ersst3b.nino.mth.81-10.ascii\""
     ],
     "language": "python",
     "metadata": {},
     "outputs": []
    },
    {
     "cell_type": "code",
     "collapsed": false,
     "input": [
      "!wget -P ../data ftp://ftp.cpc.ncep.noaa.gov/wd52dg/data/indices/ersst3b.nino.mth.81-10.ascii"
     ],
     "language": "python",
     "metadata": {},
     "outputs": []
    },
    {
     "cell_type": "code",
     "collapsed": false,
     "input": [
      "data = pd.read_table('../data/ersst3b.nino.mth.81-10.ascii', sep='\\s+') #the '\\s+' is a regular expression meaning any number of spaces"
     ],
     "language": "python",
     "metadata": {},
     "outputs": [],
     "prompt_number": 48
    },
    {
     "cell_type": "code",
     "collapsed": false,
     "input": [
      "# if the network confirguration allows it, you can read directly off the URL (ftp):\n",
      "\n",
      "#data = pd.read_table(url, sep='\\s+')"
     ],
     "language": "python",
     "metadata": {},
     "outputs": []
    },
    {
     "cell_type": "code",
     "collapsed": false,
     "input": [
      "data.tail()"
     ],
     "language": "python",
     "metadata": {},
     "outputs": [
      {
       "html": [
        "<div style=\"max-height:1000px;max-width:1500px;overflow:auto;\">\n",
        "<table border=\"1\" class=\"dataframe\">\n",
        "  <thead>\n",
        "    <tr style=\"text-align: right;\">\n",
        "      <th></th>\n",
        "      <th>YR</th>\n",
        "      <th>MON</th>\n",
        "      <th>NINO1+2</th>\n",
        "      <th>ANOM</th>\n",
        "      <th>NINO3</th>\n",
        "      <th>ANOM.1</th>\n",
        "      <th>NINO4</th>\n",
        "      <th>ANOM.2</th>\n",
        "      <th>NINO3.4</th>\n",
        "      <th>ANOM.3</th>\n",
        "    </tr>\n",
        "  </thead>\n",
        "  <tbody>\n",
        "    <tr>\n",
        "      <th>776</th>\n",
        "      <td> 2014</td>\n",
        "      <td>  9</td>\n",
        "      <td> 21.54</td>\n",
        "      <td> 0.66</td>\n",
        "      <td> 25.33</td>\n",
        "      <td> 0.31</td>\n",
        "      <td> 29.14</td>\n",
        "      <td> 0.42</td>\n",
        "      <td> 27.00</td>\n",
        "      <td> 0.17</td>\n",
        "    </tr>\n",
        "    <tr>\n",
        "      <th>777</th>\n",
        "      <td> 2014</td>\n",
        "      <td> 10</td>\n",
        "      <td> 21.69</td>\n",
        "      <td> 0.49</td>\n",
        "      <td> 25.72</td>\n",
        "      <td> 0.65</td>\n",
        "      <td> 29.22</td>\n",
        "      <td> 0.50</td>\n",
        "      <td> 27.24</td>\n",
        "      <td> 0.46</td>\n",
        "    </tr>\n",
        "    <tr>\n",
        "      <th>778</th>\n",
        "      <td> 2014</td>\n",
        "      <td> 11</td>\n",
        "      <td> 22.44</td>\n",
        "      <td> 0.62</td>\n",
        "      <td> 26.05</td>\n",
        "      <td> 0.91</td>\n",
        "      <td> 29.38</td>\n",
        "      <td> 0.72</td>\n",
        "      <td> 27.56</td>\n",
        "      <td> 0.83</td>\n",
        "    </tr>\n",
        "    <tr>\n",
        "      <th>779</th>\n",
        "      <td> 2014</td>\n",
        "      <td> 12</td>\n",
        "      <td> 23.41</td>\n",
        "      <td> 0.40</td>\n",
        "      <td> 26.09</td>\n",
        "      <td> 0.79</td>\n",
        "      <td> 29.19</td>\n",
        "      <td> 0.65</td>\n",
        "      <td> 27.35</td>\n",
        "      <td> 0.66</td>\n",
        "    </tr>\n",
        "    <tr>\n",
        "      <th>780</th>\n",
        "      <td> 2015</td>\n",
        "      <td>  1</td>\n",
        "      <td> 24.83</td>\n",
        "      <td> 0.15</td>\n",
        "      <td> 26.28</td>\n",
        "      <td> 0.51</td>\n",
        "      <td> 28.97</td>\n",
        "      <td> 0.65</td>\n",
        "      <td> 27.21</td>\n",
        "      <td> 0.54</td>\n",
        "    </tr>\n",
        "  </tbody>\n",
        "</table>\n",
        "</div>"
       ],
       "metadata": {},
       "output_type": "pyout",
       "prompt_number": 49,
       "text": [
        "       YR  MON  NINO1+2  ANOM  NINO3  ANOM.1  NINO4  ANOM.2  NINO3.4  ANOM.3\n",
        "776  2014    9    21.54  0.66  25.33    0.31  29.14    0.42    27.00    0.17\n",
        "777  2014   10    21.69  0.49  25.72    0.65  29.22    0.50    27.24    0.46\n",
        "778  2014   11    22.44  0.62  26.05    0.91  29.38    0.72    27.56    0.83\n",
        "779  2014   12    23.41  0.40  26.09    0.79  29.19    0.65    27.35    0.66\n",
        "780  2015    1    24.83  0.15  26.28    0.51  28.97    0.65    27.21    0.54"
       ]
      }
     ],
     "prompt_number": 49
    },
    {
     "cell_type": "markdown",
     "metadata": {},
     "source": [
      "I only keep the raw - monthly - values of NINO 3.4 "
     ]
    },
    {
     "cell_type": "code",
     "collapsed": false,
     "input": [
      "nino = data[['YR','MON','NINO3.4']]"
     ],
     "language": "python",
     "metadata": {},
     "outputs": [],
     "prompt_number": 50
    },
    {
     "cell_type": "code",
     "collapsed": false,
     "input": [
      "nino.tail()"
     ],
     "language": "python",
     "metadata": {},
     "outputs": [
      {
       "html": [
        "<div style=\"max-height:1000px;max-width:1500px;overflow:auto;\">\n",
        "<table border=\"1\" class=\"dataframe\">\n",
        "  <thead>\n",
        "    <tr style=\"text-align: right;\">\n",
        "      <th></th>\n",
        "      <th>YR</th>\n",
        "      <th>MON</th>\n",
        "      <th>NINO3.4</th>\n",
        "    </tr>\n",
        "  </thead>\n",
        "  <tbody>\n",
        "    <tr>\n",
        "      <th>776</th>\n",
        "      <td> 2014</td>\n",
        "      <td>  9</td>\n",
        "      <td> 27.00</td>\n",
        "    </tr>\n",
        "    <tr>\n",
        "      <th>777</th>\n",
        "      <td> 2014</td>\n",
        "      <td> 10</td>\n",
        "      <td> 27.24</td>\n",
        "    </tr>\n",
        "    <tr>\n",
        "      <th>778</th>\n",
        "      <td> 2014</td>\n",
        "      <td> 11</td>\n",
        "      <td> 27.56</td>\n",
        "    </tr>\n",
        "    <tr>\n",
        "      <th>779</th>\n",
        "      <td> 2014</td>\n",
        "      <td> 12</td>\n",
        "      <td> 27.35</td>\n",
        "    </tr>\n",
        "    <tr>\n",
        "      <th>780</th>\n",
        "      <td> 2015</td>\n",
        "      <td>  1</td>\n",
        "      <td> 27.21</td>\n",
        "    </tr>\n",
        "  </tbody>\n",
        "</table>\n",
        "</div>"
       ],
       "metadata": {},
       "output_type": "pyout",
       "prompt_number": 51,
       "text": [
        "       YR  MON  NINO3.4\n",
        "776  2014    9    27.00\n",
        "777  2014   10    27.24\n",
        "778  2014   11    27.56\n",
        "779  2014   12    27.35\n",
        "780  2015    1    27.21"
       ]
      }
     ],
     "prompt_number": 51
    },
    {
     "cell_type": "markdown",
     "metadata": {},
     "source": [
      "Now I want to calculate a climatology (over the whole period available)\n",
      "\n",
      "I first group by UNIQUE values of the variable months, I should get 12 groups"
     ]
    },
    {
     "cell_type": "code",
     "collapsed": false,
     "input": [
      "groups = nino.groupby('MON')"
     ],
     "language": "python",
     "metadata": {},
     "outputs": [],
     "prompt_number": 52
    },
    {
     "cell_type": "code",
     "collapsed": false,
     "input": [
      "for month, group in groups:\n",
      "    print month\n",
      "    print group.head()"
     ],
     "language": "python",
     "metadata": {},
     "outputs": [
      {
       "output_type": "stream",
       "stream": "stdout",
       "text": [
        "1\n",
        "      YR  MON  NINO3.4\n",
        "0   1950    1    24.83\n",
        "12  1951    1    25.46\n",
        "24  1952    1    26.85\n",
        "36  1953    1    26.85\n",
        "48  1954    1    27.03\n",
        "2\n",
        "      YR  MON  NINO3.4\n",
        "1   1950    2    25.20\n",
        "13  1951    2    25.78\n",
        "25  1952    2    26.79\n",
        "37  1953    2    27.19\n",
        "49  1954    2    27.22\n",
        "3\n",
        "      YR  MON  NINO3.4\n",
        "2   1950    3    26.03\n",
        "14  1951    3    26.72\n",
        "26  1952    3    27.32\n",
        "38  1953    3    27.68\n",
        "50  1954    3    27.21\n",
        "4\n",
        "      YR  MON  NINO3.4\n",
        "3   1950    4    26.36\n",
        "15  1951    4    27.24\n",
        "27  1952    4    27.88\n",
        "39  1953    4    28.19\n",
        "51  1954    4    26.87\n",
        "5\n",
        "      YR  MON  NINO3.4\n",
        "4   1950    5    26.19\n",
        "16  1951    5    27.68\n",
        "28  1952    5    27.99\n",
        "40  1953    5    28.29\n",
        "52  1954    5    27.07\n",
        "6\n",
        "      YR  MON  NINO3.4\n",
        "5   1950    6    26.52\n",
        "17  1951    6    27.46\n",
        "29  1952    6    27.33\n",
        "41  1953    6    28.02\n",
        "53  1954    6    26.93"
       ]
      },
      {
       "output_type": "stream",
       "stream": "stdout",
       "text": [
        "\n",
        "7\n",
        "      YR  MON  NINO3.4\n",
        "6   1950    7    26.42\n",
        "18  1951    7    27.72\n",
        "30  1952    7    26.72\n",
        "42  1953    7    27.52\n",
        "54  1954    7    26.37\n",
        "8\n",
        "      YR  MON  NINO3.4\n",
        "7   1950    8    25.98\n",
        "19  1951    8    27.36\n",
        "31  1952    8    26.46\n",
        "43  1953    8    27.16\n",
        "55  1954    8    25.73\n",
        "9\n",
        "      YR  MON  NINO3.4\n",
        "8   1950    9    25.78\n",
        "20  1951    9    27.51\n",
        "32  1952    9    26.54\n",
        "44  1953    9    27.13\n",
        "56  1954    9    25.38\n",
        "10\n",
        "      YR  MON  NINO3.4\n",
        "9   1950   10    25.96\n",
        "21  1951   10    27.43\n",
        "33  1952   10    26.54\n",
        "45  1953   10    27.02\n",
        "57  1954   10    25.51\n",
        "11\n",
        "      YR  MON  NINO3.4\n",
        "10  1950   11    25.64\n",
        "22  1951   11    27.48\n",
        "34  1952   11    26.36\n",
        "46  1953   11    26.96\n",
        "58  1954   11    25.67\n",
        "12\n",
        "      YR  MON  NINO3.4\n",
        "11  1950   12    25.50\n",
        "23  1951   12    27.12\n",
        "35  1952   12    26.53\n",
        "47  1953   12    26.99\n",
        "59  1954   12    25.37\n"
       ]
      }
     ],
     "prompt_number": 53
    },
    {
     "cell_type": "code",
     "collapsed": false,
     "input": [
      "climatology = groups.mean()"
     ],
     "language": "python",
     "metadata": {},
     "outputs": [],
     "prompt_number": 54
    },
    {
     "cell_type": "markdown",
     "metadata": {},
     "source": [
      "Same as \n",
      "\n",
      "    climatology = groups.aggregate(np.mean)\n",
      "    \n",
      "    "
     ]
    },
    {
     "cell_type": "code",
     "collapsed": false,
     "input": [
      "climatology['NINO3.4'].head(12)"
     ],
     "language": "python",
     "metadata": {},
     "outputs": [
      {
       "metadata": {},
       "output_type": "pyout",
       "prompt_number": 55,
       "text": [
        "MON\n",
        "1      26.495606\n",
        "2      26.677077\n",
        "3      27.184308\n",
        "4      27.623692\n",
        "5      27.739692\n",
        "6      27.544462\n",
        "7      27.152000\n",
        "8      26.765385\n",
        "9      26.672462\n",
        "10     26.642000\n",
        "11     26.608615\n",
        "12     26.541692\n",
        "Name: NINO3.4, dtype: float64"
       ]
      }
     ],
     "prompt_number": 55
    },
    {
     "cell_type": "code",
     "collapsed": false,
     "input": [
      "f, ax = plt.subplots()\n",
      "\n",
      "climatology['NINO3.4'].plot(ax=ax, kind='bar',ylim=[26,28], rot=0, width=0.9)\n",
      "\n",
      "ax.set_xticklabels(list('JFMAMJJASOND'));\n",
      "\n",
      "f.savefig('../outputs/climatology.pdf')"
     ],
     "language": "python",
     "metadata": {},
     "outputs": [
      {
       "metadata": {},
       "output_type": "display_data",
       "png": "[encoded data removed]",
       "text": [
        "<matplotlib.figure.Figure at 0x1080f5190>"
       ]
      }
     ],
     "prompt_number": 56
    },
    {
     "cell_type": "markdown",
     "metadata": {},
     "source": [
      "Now suppose we want to apply a function that doesnt **aggregate** the values in the groups (such as *sum*, or *mean*) but rather want to **apply a function** to those values ... \n",
      "\n",
      "An example would be calculating the standardized anomalies per month (to each value subtract the mean of the corresponding month, then divide by the standard-deviation)"
     ]
    },
    {
     "cell_type": "code",
     "collapsed": false,
     "input": [
      "def zscore(x): \n",
      "    z = (x - x.mean()) / x.std()\n",
      "    return z"
     ],
     "language": "python",
     "metadata": {},
     "outputs": [],
     "prompt_number": 57
    },
    {
     "cell_type": "code",
     "collapsed": false,
     "input": [
      "transformed = nino.groupby(nino.MON).apply(zscore)"
     ],
     "language": "python",
     "metadata": {},
     "outputs": [],
     "prompt_number": 58
    },
    {
     "cell_type": "code",
     "collapsed": false,
     "input": [
      "transformed['NINO3.4'].plot()"
     ],
     "language": "python",
     "metadata": {},
     "outputs": [
      {
       "metadata": {},
       "output_type": "pyout",
       "prompt_number": 59,
       "text": [
        "<matplotlib.axes._subplots.AxesSubplot at 0x10877be50>"
       ]
      },
      {
       "metadata": {},
       "output_type": "display_data",
       "png": "[encoded data removed]",
       "text": [
        "<matplotlib.figure.Figure at 0x10810c050>"
       ]
      }
     ],
     "prompt_number": 59
    },
    {
     "cell_type": "markdown",
     "metadata": {},
     "source": [
      "Now we want calculate (just) the anomalies WRT to the climatology, but with a ** *normal* established over 1980 - 2010**"
     ]
    },
    {
     "cell_type": "code",
     "collapsed": false,
     "input": [
      "nino.head()"
     ],
     "language": "python",
     "metadata": {},
     "outputs": [
      {
       "html": [
        "<div style=\"max-height:1000px;max-width:1500px;overflow:auto;\">\n",
        "<table border=\"1\" class=\"dataframe\">\n",
        "  <thead>\n",
        "    <tr style=\"text-align: right;\">\n",
        "      <th></th>\n",
        "      <th>YR</th>\n",
        "      <th>MON</th>\n",
        "      <th>NINO3.4</th>\n",
        "    </tr>\n",
        "  </thead>\n",
        "  <tbody>\n",
        "    <tr>\n",
        "      <th>0</th>\n",
        "      <td> 1950</td>\n",
        "      <td> 1</td>\n",
        "      <td> 24.83</td>\n",
        "    </tr>\n",
        "    <tr>\n",
        "      <th>1</th>\n",
        "      <td> 1950</td>\n",
        "      <td> 2</td>\n",
        "      <td> 25.20</td>\n",
        "    </tr>\n",
        "    <tr>\n",
        "      <th>2</th>\n",
        "      <td> 1950</td>\n",
        "      <td> 3</td>\n",
        "      <td> 26.03</td>\n",
        "    </tr>\n",
        "    <tr>\n",
        "      <th>3</th>\n",
        "      <td> 1950</td>\n",
        "      <td> 4</td>\n",
        "      <td> 26.36</td>\n",
        "    </tr>\n",
        "    <tr>\n",
        "      <th>4</th>\n",
        "      <td> 1950</td>\n",
        "      <td> 5</td>\n",
        "      <td> 26.19</td>\n",
        "    </tr>\n",
        "  </tbody>\n",
        "</table>\n",
        "</div>"
       ],
       "metadata": {},
       "output_type": "pyout",
       "prompt_number": 60,
       "text": [
        "     YR  MON  NINO3.4\n",
        "0  1950    1    24.83\n",
        "1  1950    2    25.20\n",
        "2  1950    3    26.03\n",
        "3  1950    4    26.36\n",
        "4  1950    5    26.19"
       ]
      }
     ],
     "prompt_number": 60
    },
    {
     "cell_type": "markdown",
     "metadata": {},
     "source": [
      "we can make use of the *query* method of Pandas DataFrames to select the climatological period"
     ]
    },
    {
     "cell_type": "code",
     "collapsed": false,
     "input": [
      "nino.query('YR >= 1981 & YR <= 2000').head()"
     ],
     "language": "python",
     "metadata": {},
     "outputs": [
      {
       "html": [
        "<div style=\"max-height:1000px;max-width:1500px;overflow:auto;\">\n",
        "<table border=\"1\" class=\"dataframe\">\n",
        "  <thead>\n",
        "    <tr style=\"text-align: right;\">\n",
        "      <th></th>\n",
        "      <th>YR</th>\n",
        "      <th>MON</th>\n",
        "      <th>NINO3.4</th>\n",
        "    </tr>\n",
        "  </thead>\n",
        "  <tbody>\n",
        "    <tr>\n",
        "      <th>372</th>\n",
        "      <td> 1981</td>\n",
        "      <td> 1</td>\n",
        "      <td> 26.17</td>\n",
        "    </tr>\n",
        "    <tr>\n",
        "      <th>373</th>\n",
        "      <td> 1981</td>\n",
        "      <td> 2</td>\n",
        "      <td> 26.13</td>\n",
        "    </tr>\n",
        "    <tr>\n",
        "      <th>374</th>\n",
        "      <td> 1981</td>\n",
        "      <td> 3</td>\n",
        "      <td> 26.75</td>\n",
        "    </tr>\n",
        "    <tr>\n",
        "      <th>375</th>\n",
        "      <td> 1981</td>\n",
        "      <td> 4</td>\n",
        "      <td> 27.32</td>\n",
        "    </tr>\n",
        "    <tr>\n",
        "      <th>376</th>\n",
        "      <td> 1981</td>\n",
        "      <td> 5</td>\n",
        "      <td> 27.41</td>\n",
        "    </tr>\n",
        "  </tbody>\n",
        "</table>\n",
        "</div>"
       ],
       "metadata": {},
       "output_type": "pyout",
       "prompt_number": 61,
       "text": [
        "       YR  MON  NINO3.4\n",
        "372  1981    1    26.17\n",
        "373  1981    2    26.13\n",
        "374  1981    3    26.75\n",
        "375  1981    4    27.32\n",
        "376  1981    5    27.41"
       ]
      }
     ],
     "prompt_number": 61
    },
    {
     "cell_type": "code",
     "collapsed": false,
     "input": [
      "def demean(x): \n",
      "    z = x - x.query('YR >= 1981 & YR <= 2000').mean()\n",
      "    return z"
     ],
     "language": "python",
     "metadata": {},
     "outputs": [],
     "prompt_number": 62
    },
    {
     "cell_type": "code",
     "collapsed": false,
     "input": [
      "anoms = nino.groupby([nino.MON]).apply(demean)"
     ],
     "language": "python",
     "metadata": {},
     "outputs": [],
     "prompt_number": 63
    },
    {
     "cell_type": "code",
     "collapsed": false,
     "input": [
      "f, ax = plt.subplots(figsize=(10,6))\n",
      "anoms['NINO3.4'].plot()\n",
      "data['ANOM.3'].plot() # Should be the same"
     ],
     "language": "python",
     "metadata": {},
     "outputs": [
      {
       "metadata": {},
       "output_type": "pyout",
       "prompt_number": 64,
       "text": [
        "<matplotlib.axes._subplots.AxesSubplot at 0x1088c2ad0>"
       ]
      },
      {
       "metadata": {},
       "output_type": "display_data",
       "png": "[encoded data removed]",
       "text": [
        "<matplotlib.figure.Figure at 0x108838510>"
       ]
      }
     ],
     "prompt_number": 64
    },
    {
     "cell_type": "heading",
     "level": 3,
     "metadata": {},
     "source": [
      "Exercise"
     ]
    },
    {
     "cell_type": "markdown",
     "metadata": {},
     "source": [
      "The file [Daily_clim_data_Auckland.csv](./data/Daily_clim_data_Auckland.csv) in the `data` directory contains \n",
      "daily values for rainfall, minimum and maximum temperatures for Auckland from 1972 to now.  \n",
      "\n",
      "1. Read the data in a Pandas DataFrame, correctly setting up the index as a datetime object \n",
      "2. calculate monthly means for the temperature data, monthly totals for rainfall \n",
      "3. calculate and plot a climatology over the period 1981 - 2000 for all parameters \n",
      "4. calculate the anomalies WRT this climatology for all parameters \n",
      "5. plots the time-series of minimum and maximum temperature \n",
      "6. dig into the Scipy documentation to find how to calculate the linear trend over the period for the temperature data \n",
      "7. calculate and plot the trend \n",
      "8. Contact the [New Zealand Climate Science Coalition](http://www.nzclimatescience.org/)"
     ]
    },
    {
     "cell_type": "code",
     "collapsed": false,
     "input": [],
     "language": "python",
     "metadata": {},
     "outputs": []
    }
   ],
   "metadata": {}
  }
 ]
}